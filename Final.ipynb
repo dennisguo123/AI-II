{
 "cells": [
  {
   "cell_type": "markdown",
   "id": "a414e3af",
   "metadata": {},
   "source": [
    "Final Project for AI II"
   ]
  },
  {
   "cell_type": "markdown",
   "id": "df0b41fa",
   "metadata": {},
   "source": [
    "Steps:\n",
    "1. Load the dataset. \n",
    "2. Data visualization and preprocessing - Understand the columns and what those features mean in the context of the problem. \n",
    "3. Separate train, dev, and test components\n",
    "4. Use Keras preprocessing layers to integrate categorical and numerical features into your model.\n",
    "5. Build an initial DL model - Use the Keras Sequential API with Dense modules\n",
    "6. Perform hyperparameter tuning. Consider adding regularization, output bias for imbalance data, model weights.\n",
    "7. Predictions on text set - Report the performance metrics (precision, recall, accuracy, AUC)."
   ]
  },
  {
   "cell_type": "markdown",
   "id": "fb4fac08",
   "metadata": {},
   "source": [
    "1. LOAD THE DATA"
   ]
  },
  {
   "cell_type": "code",
   "execution_count": 90,
   "id": "6e3573a1",
   "metadata": {},
   "outputs": [],
   "source": [
    "#!pip install keras-tuner --upgrade\n",
    "#!pip install pydot --upgrade"
   ]
  },
  {
   "cell_type": "code",
   "execution_count": 91,
   "id": "9090db48",
   "metadata": {},
   "outputs": [],
   "source": [
    "import numpy as np\n",
    "import pandas as pd\n",
    "import tensorflow as tf\n",
    "from tensorflow import keras\n",
    "import seaborn as sns\n",
    "import matplotlib.pyplot as plt\n",
    "import plotly.graph_objs as go\n",
    "from keras.layers import Activation, Dense, Dropout\n",
    "import keras_tuner as kt           #for hypertuning!!!\n",
    "from keras.utils.vis_utils import plot_model\n",
    "from sklearn import metrics\n",
    "from sklearn.metrics import confusion_matrix\n",
    "from sklearn.metrics import plot_confusion_matrix\n",
    "from sklearn.metrics import accuracy_score,precision_score,recall_score,f1_score"
   ]
  },
  {
   "cell_type": "code",
   "execution_count": 92,
   "id": "eb7f40de",
   "metadata": {},
   "outputs": [],
   "source": [
    "train_data = pd.read_csv(\"C:/Users/guoyy/OneDrive/Desktop/ADEC 7630 Algorithm Intelligence/Final/train.csv\")\n",
    "# here we should split the dataset"
   ]
  },
  {
   "cell_type": "markdown",
   "id": "f39808b4",
   "metadata": {},
   "source": [
    "2. DATA VISUALIZATION AND PROCESSING"
   ]
  },
  {
   "cell_type": "code",
   "execution_count": 93,
   "id": "e894ff39",
   "metadata": {},
   "outputs": [
    {
     "data": {
      "text/html": [
       "<div>\n",
       "<style scoped>\n",
       "    .dataframe tbody tr th:only-of-type {\n",
       "        vertical-align: middle;\n",
       "    }\n",
       "\n",
       "    .dataframe tbody tr th {\n",
       "        vertical-align: top;\n",
       "    }\n",
       "\n",
       "    .dataframe thead th {\n",
       "        text-align: right;\n",
       "    }\n",
       "</style>\n",
       "<table border=\"1\" class=\"dataframe\">\n",
       "  <thead>\n",
       "    <tr style=\"text-align: right;\">\n",
       "      <th></th>\n",
       "      <th>id</th>\n",
       "      <th>Age</th>\n",
       "      <th>BusinessTravel</th>\n",
       "      <th>DailyRate</th>\n",
       "      <th>Department</th>\n",
       "      <th>DistanceFromHome</th>\n",
       "      <th>Education</th>\n",
       "      <th>EducationField</th>\n",
       "      <th>EmployeeCount</th>\n",
       "      <th>EnvironmentSatisfaction</th>\n",
       "      <th>...</th>\n",
       "      <th>StandardHours</th>\n",
       "      <th>StockOptionLevel</th>\n",
       "      <th>TotalWorkingYears</th>\n",
       "      <th>TrainingTimesLastYear</th>\n",
       "      <th>WorkLifeBalance</th>\n",
       "      <th>YearsAtCompany</th>\n",
       "      <th>YearsInCurrentRole</th>\n",
       "      <th>YearsSinceLastPromotion</th>\n",
       "      <th>YearsWithCurrManager</th>\n",
       "      <th>Attrition</th>\n",
       "    </tr>\n",
       "  </thead>\n",
       "  <tbody>\n",
       "    <tr>\n",
       "      <th>0</th>\n",
       "      <td>0</td>\n",
       "      <td>36</td>\n",
       "      <td>Travel_Frequently</td>\n",
       "      <td>599</td>\n",
       "      <td>Research &amp; Development</td>\n",
       "      <td>24</td>\n",
       "      <td>3</td>\n",
       "      <td>Medical</td>\n",
       "      <td>1</td>\n",
       "      <td>4</td>\n",
       "      <td>...</td>\n",
       "      <td>80</td>\n",
       "      <td>1</td>\n",
       "      <td>10</td>\n",
       "      <td>2</td>\n",
       "      <td>3</td>\n",
       "      <td>10</td>\n",
       "      <td>0</td>\n",
       "      <td>7</td>\n",
       "      <td>8</td>\n",
       "      <td>0</td>\n",
       "    </tr>\n",
       "    <tr>\n",
       "      <th>1</th>\n",
       "      <td>1</td>\n",
       "      <td>35</td>\n",
       "      <td>Travel_Rarely</td>\n",
       "      <td>921</td>\n",
       "      <td>Sales</td>\n",
       "      <td>8</td>\n",
       "      <td>3</td>\n",
       "      <td>Other</td>\n",
       "      <td>1</td>\n",
       "      <td>1</td>\n",
       "      <td>...</td>\n",
       "      <td>80</td>\n",
       "      <td>1</td>\n",
       "      <td>4</td>\n",
       "      <td>3</td>\n",
       "      <td>3</td>\n",
       "      <td>4</td>\n",
       "      <td>2</td>\n",
       "      <td>0</td>\n",
       "      <td>3</td>\n",
       "      <td>0</td>\n",
       "    </tr>\n",
       "    <tr>\n",
       "      <th>2</th>\n",
       "      <td>2</td>\n",
       "      <td>32</td>\n",
       "      <td>Travel_Rarely</td>\n",
       "      <td>718</td>\n",
       "      <td>Sales</td>\n",
       "      <td>26</td>\n",
       "      <td>3</td>\n",
       "      <td>Marketing</td>\n",
       "      <td>1</td>\n",
       "      <td>3</td>\n",
       "      <td>...</td>\n",
       "      <td>80</td>\n",
       "      <td>2</td>\n",
       "      <td>4</td>\n",
       "      <td>3</td>\n",
       "      <td>3</td>\n",
       "      <td>3</td>\n",
       "      <td>2</td>\n",
       "      <td>1</td>\n",
       "      <td>2</td>\n",
       "      <td>0</td>\n",
       "    </tr>\n",
       "    <tr>\n",
       "      <th>3</th>\n",
       "      <td>3</td>\n",
       "      <td>38</td>\n",
       "      <td>Travel_Rarely</td>\n",
       "      <td>1488</td>\n",
       "      <td>Research &amp; Development</td>\n",
       "      <td>2</td>\n",
       "      <td>3</td>\n",
       "      <td>Medical</td>\n",
       "      <td>1</td>\n",
       "      <td>3</td>\n",
       "      <td>...</td>\n",
       "      <td>80</td>\n",
       "      <td>0</td>\n",
       "      <td>15</td>\n",
       "      <td>1</td>\n",
       "      <td>1</td>\n",
       "      <td>6</td>\n",
       "      <td>0</td>\n",
       "      <td>0</td>\n",
       "      <td>2</td>\n",
       "      <td>0</td>\n",
       "    </tr>\n",
       "    <tr>\n",
       "      <th>4</th>\n",
       "      <td>4</td>\n",
       "      <td>50</td>\n",
       "      <td>Travel_Rarely</td>\n",
       "      <td>1017</td>\n",
       "      <td>Research &amp; Development</td>\n",
       "      <td>5</td>\n",
       "      <td>4</td>\n",
       "      <td>Medical</td>\n",
       "      <td>1</td>\n",
       "      <td>2</td>\n",
       "      <td>...</td>\n",
       "      <td>80</td>\n",
       "      <td>0</td>\n",
       "      <td>31</td>\n",
       "      <td>0</td>\n",
       "      <td>3</td>\n",
       "      <td>31</td>\n",
       "      <td>14</td>\n",
       "      <td>4</td>\n",
       "      <td>10</td>\n",
       "      <td>1</td>\n",
       "    </tr>\n",
       "  </tbody>\n",
       "</table>\n",
       "<p>5 rows × 35 columns</p>\n",
       "</div>"
      ],
      "text/plain": [
       "   id  Age     BusinessTravel  DailyRate              Department  \\\n",
       "0   0   36  Travel_Frequently        599  Research & Development   \n",
       "1   1   35      Travel_Rarely        921                   Sales   \n",
       "2   2   32      Travel_Rarely        718                   Sales   \n",
       "3   3   38      Travel_Rarely       1488  Research & Development   \n",
       "4   4   50      Travel_Rarely       1017  Research & Development   \n",
       "\n",
       "   DistanceFromHome  Education EducationField  EmployeeCount  \\\n",
       "0                24          3        Medical              1   \n",
       "1                 8          3          Other              1   \n",
       "2                26          3      Marketing              1   \n",
       "3                 2          3        Medical              1   \n",
       "4                 5          4        Medical              1   \n",
       "\n",
       "   EnvironmentSatisfaction  ... StandardHours  StockOptionLevel  \\\n",
       "0                        4  ...            80                 1   \n",
       "1                        1  ...            80                 1   \n",
       "2                        3  ...            80                 2   \n",
       "3                        3  ...            80                 0   \n",
       "4                        2  ...            80                 0   \n",
       "\n",
       "   TotalWorkingYears  TrainingTimesLastYear WorkLifeBalance  YearsAtCompany  \\\n",
       "0                 10                      2               3              10   \n",
       "1                  4                      3               3               4   \n",
       "2                  4                      3               3               3   \n",
       "3                 15                      1               1               6   \n",
       "4                 31                      0               3              31   \n",
       "\n",
       "  YearsInCurrentRole  YearsSinceLastPromotion  YearsWithCurrManager  Attrition  \n",
       "0                  0                        7                     8          0  \n",
       "1                  2                        0                     3          0  \n",
       "2                  2                        1                     2          0  \n",
       "3                  0                        0                     2          0  \n",
       "4                 14                        4                    10          1  \n",
       "\n",
       "[5 rows x 35 columns]"
      ]
     },
     "execution_count": 93,
     "metadata": {},
     "output_type": "execute_result"
    }
   ],
   "source": [
    "train_data.head()"
   ]
  },
  {
   "cell_type": "code",
   "execution_count": 94,
   "id": "74629a64",
   "metadata": {},
   "outputs": [
    {
     "name": "stdout",
     "output_type": "stream",
     "text": [
      "(1677, 35)\n"
     ]
    }
   ],
   "source": [
    "print(train_data.shape)"
   ]
  },
  {
   "cell_type": "code",
   "execution_count": 95,
   "id": "f1035864",
   "metadata": {},
   "outputs": [
    {
     "name": "stdout",
     "output_type": "stream",
     "text": [
      "['id', 'Age', 'BusinessTravel', 'DailyRate', 'Department', 'DistanceFromHome', 'Education', 'EducationField', 'EmployeeCount', 'EnvironmentSatisfaction', 'Gender', 'HourlyRate', 'JobInvolvement', 'JobLevel', 'JobRole', 'JobSatisfaction', 'MaritalStatus', 'MonthlyIncome', 'MonthlyRate', 'NumCompaniesWorked', 'Over18', 'OverTime', 'PercentSalaryHike', 'PerformanceRating', 'RelationshipSatisfaction', 'StandardHours', 'StockOptionLevel', 'TotalWorkingYears', 'TrainingTimesLastYear', 'WorkLifeBalance', 'YearsAtCompany', 'YearsInCurrentRole', 'YearsSinceLastPromotion', 'YearsWithCurrManager', 'Attrition']\n"
     ]
    }
   ],
   "source": [
    "# we have column names like .......\n",
    "features = train_data.columns.to_list()\n",
    "print(features)\n",
    "#feature explanation "
   ]
  },
  {
   "cell_type": "code",
   "execution_count": 96,
   "id": "92a96981",
   "metadata": {
    "scrolled": false
   },
   "outputs": [
    {
     "name": "stdout",
     "output_type": "stream",
     "text": [
      "<class 'pandas.core.frame.DataFrame'>\n",
      "RangeIndex: 1677 entries, 0 to 1676\n",
      "Data columns (total 35 columns):\n",
      " #   Column                    Non-Null Count  Dtype \n",
      "---  ------                    --------------  ----- \n",
      " 0   id                        1677 non-null   int64 \n",
      " 1   Age                       1677 non-null   int64 \n",
      " 2   BusinessTravel            1677 non-null   object\n",
      " 3   DailyRate                 1677 non-null   int64 \n",
      " 4   Department                1677 non-null   object\n",
      " 5   DistanceFromHome          1677 non-null   int64 \n",
      " 6   Education                 1677 non-null   int64 \n",
      " 7   EducationField            1677 non-null   object\n",
      " 8   EmployeeCount             1677 non-null   int64 \n",
      " 9   EnvironmentSatisfaction   1677 non-null   int64 \n",
      " 10  Gender                    1677 non-null   object\n",
      " 11  HourlyRate                1677 non-null   int64 \n",
      " 12  JobInvolvement            1677 non-null   int64 \n",
      " 13  JobLevel                  1677 non-null   int64 \n",
      " 14  JobRole                   1677 non-null   object\n",
      " 15  JobSatisfaction           1677 non-null   int64 \n",
      " 16  MaritalStatus             1677 non-null   object\n",
      " 17  MonthlyIncome             1677 non-null   int64 \n",
      " 18  MonthlyRate               1677 non-null   int64 \n",
      " 19  NumCompaniesWorked        1677 non-null   int64 \n",
      " 20  Over18                    1677 non-null   object\n",
      " 21  OverTime                  1677 non-null   object\n",
      " 22  PercentSalaryHike         1677 non-null   int64 \n",
      " 23  PerformanceRating         1677 non-null   int64 \n",
      " 24  RelationshipSatisfaction  1677 non-null   int64 \n",
      " 25  StandardHours             1677 non-null   int64 \n",
      " 26  StockOptionLevel          1677 non-null   int64 \n",
      " 27  TotalWorkingYears         1677 non-null   int64 \n",
      " 28  TrainingTimesLastYear     1677 non-null   int64 \n",
      " 29  WorkLifeBalance           1677 non-null   int64 \n",
      " 30  YearsAtCompany            1677 non-null   int64 \n",
      " 31  YearsInCurrentRole        1677 non-null   int64 \n",
      " 32  YearsSinceLastPromotion   1677 non-null   int64 \n",
      " 33  YearsWithCurrManager      1677 non-null   int64 \n",
      " 34  Attrition                 1677 non-null   int64 \n",
      "dtypes: int64(27), object(8)\n",
      "memory usage: 458.7+ KB\n"
     ]
    }
   ],
   "source": [
    "train_data.info()\n",
    "#We find that all the columns are none-null here, which means that we don't need to do imputations."
   ]
  },
  {
   "cell_type": "markdown",
   "id": "7c89555b",
   "metadata": {},
   "source": [
    "#Explaination for each variable\n",
    "STT\tAttribute Name\tMeaning\n",
    "1\tAge\tEmployee's age\n",
    "2\tGender\tEmployee's Gender\n",
    "3\tBusinessTravel\tFrequency of employees' business trips\n",
    "4\tDailyRate\tDaily salary rate for employees\n",
    "5\tDepartment\tOffice of employees\n",
    "6\tDistanceFromHome\tDistance from home in miles to work\n",
    "7\tEducation\tLevel of education achieved by staff\n",
    "8\tEducationField\tEmployee's field of study\n",
    "9\tEmployeeCount\tTotal number of employees in the organization\n",
    "10\tEmployeeNumber\tA unique identifier for each employee record\n",
    "11\tEnvironmentSatisfaction\tEmployee satisfaction with their working environment\n",
    "12\tHourlyRate\tHourly rate for employees\n",
    "13\tJobInvolvement\tLevel of involvement required for the employee's job\n",
    "14\tJobLevel\tEmployee's level of work\n",
    "15\tJobRole\tThe role of employees in the organization\n",
    "16\tJobSatisfaction\tEmployee satisfaction with their work\n",
    "17\tMaritalStatus\tEmployee's marital status\n",
    "18\tMonthlyIncome\tEmployee's monthly income\n",
    "19\tMonthlyRate\tMonthly salary rate for employees\n",
    "20\tNumCompaniesWorked\tNumber of companies the employee worked for\n",
    "21\tOver18\tWhether the employee is over 18 years old\n",
    "22\tOverTime\tDo employees work overtime\n",
    "23\tPercentSalaryHike\tSalary increase rate for employees\n",
    "24\tPerformanceRating\tThe performance rating of the employee\n",
    "25\tRelationshipSatisfaction\tEmployee satisfaction with their relationships\n",
    "26\tStandardHours\tStandard working hours for employees\n",
    "27\tStockOptionLevel\tEmployee stock option level\n",
    "28\tTotalWorkingYears\tTotal number of years the employee has worked\n",
    "29\tTrainingTimesLastYear\tNumber of times employees were taken to training in the last year\n",
    "30\tWorkLifeBalance\tEmployees' perception of their work-life balance\n",
    "31\tYearsAtCompany\tNumber of years employees have been with the company\n",
    "32\tYearsInCurrentRole\tNumber of years the employee has been in their current role\n",
    "33\tYearsSinceLastPromotion\tNumber of years since employee's last promotion\n",
    "34\tYearsWithCurrManager\tNumber of years an employee has been with their current manager\n",
    "35\tAttrition\tDoes the employee leave the organization"
   ]
  },
  {
   "cell_type": "code",
   "execution_count": 97,
   "id": "8b2dd027",
   "metadata": {},
   "outputs": [],
   "source": [
    "#Before checking through all the columns, here are two steps:\n",
    "#1. Check the int type data   27 columns\n",
    "#However, there are integer for rank in these 27 columns, so we should classify these columns into categorical or integer types\n",
    "#2. Check the object type data   8 columns"
   ]
  },
  {
   "cell_type": "code",
   "execution_count": 98,
   "id": "1a162832",
   "metadata": {},
   "outputs": [
    {
     "data": {
      "text/html": [
       "<div>\n",
       "<style scoped>\n",
       "    .dataframe tbody tr th:only-of-type {\n",
       "        vertical-align: middle;\n",
       "    }\n",
       "\n",
       "    .dataframe tbody tr th {\n",
       "        vertical-align: top;\n",
       "    }\n",
       "\n",
       "    .dataframe thead th {\n",
       "        text-align: right;\n",
       "    }\n",
       "</style>\n",
       "<table border=\"1\" class=\"dataframe\">\n",
       "  <thead>\n",
       "    <tr style=\"text-align: right;\">\n",
       "      <th></th>\n",
       "      <th>id</th>\n",
       "      <th>Age</th>\n",
       "      <th>DailyRate</th>\n",
       "      <th>DistanceFromHome</th>\n",
       "      <th>Education</th>\n",
       "      <th>EmployeeCount</th>\n",
       "      <th>EnvironmentSatisfaction</th>\n",
       "      <th>HourlyRate</th>\n",
       "      <th>JobInvolvement</th>\n",
       "      <th>JobLevel</th>\n",
       "      <th>...</th>\n",
       "      <th>StandardHours</th>\n",
       "      <th>StockOptionLevel</th>\n",
       "      <th>TotalWorkingYears</th>\n",
       "      <th>TrainingTimesLastYear</th>\n",
       "      <th>WorkLifeBalance</th>\n",
       "      <th>YearsAtCompany</th>\n",
       "      <th>YearsInCurrentRole</th>\n",
       "      <th>YearsSinceLastPromotion</th>\n",
       "      <th>YearsWithCurrManager</th>\n",
       "      <th>Attrition</th>\n",
       "    </tr>\n",
       "  </thead>\n",
       "  <tbody>\n",
       "    <tr>\n",
       "      <th>count</th>\n",
       "      <td>1677.000000</td>\n",
       "      <td>1677.000000</td>\n",
       "      <td>1677.000000</td>\n",
       "      <td>1677.000000</td>\n",
       "      <td>1677.000000</td>\n",
       "      <td>1677.0</td>\n",
       "      <td>1677.000000</td>\n",
       "      <td>1677.000000</td>\n",
       "      <td>1677.000000</td>\n",
       "      <td>1677.000000</td>\n",
       "      <td>...</td>\n",
       "      <td>1677.0</td>\n",
       "      <td>1677.000000</td>\n",
       "      <td>1677.000000</td>\n",
       "      <td>1677.000000</td>\n",
       "      <td>1677.000000</td>\n",
       "      <td>1677.000000</td>\n",
       "      <td>1677.000000</td>\n",
       "      <td>1677.000000</td>\n",
       "      <td>1677.000000</td>\n",
       "      <td>1677.000000</td>\n",
       "    </tr>\n",
       "    <tr>\n",
       "      <th>mean</th>\n",
       "      <td>838.000000</td>\n",
       "      <td>36.036971</td>\n",
       "      <td>892.749553</td>\n",
       "      <td>8.683959</td>\n",
       "      <td>2.937984</td>\n",
       "      <td>1.0</td>\n",
       "      <td>2.757901</td>\n",
       "      <td>67.798450</td>\n",
       "      <td>2.782349</td>\n",
       "      <td>1.998807</td>\n",
       "      <td>...</td>\n",
       "      <td>80.0</td>\n",
       "      <td>0.721527</td>\n",
       "      <td>10.709600</td>\n",
       "      <td>2.732856</td>\n",
       "      <td>2.769827</td>\n",
       "      <td>6.806798</td>\n",
       "      <td>4.144305</td>\n",
       "      <td>1.978533</td>\n",
       "      <td>4.186643</td>\n",
       "      <td>0.119261</td>\n",
       "    </tr>\n",
       "    <tr>\n",
       "      <th>std</th>\n",
       "      <td>484.252517</td>\n",
       "      <td>8.507112</td>\n",
       "      <td>374.496259</td>\n",
       "      <td>7.826143</td>\n",
       "      <td>1.039078</td>\n",
       "      <td>0.0</td>\n",
       "      <td>1.086835</td>\n",
       "      <td>19.435928</td>\n",
       "      <td>0.650664</td>\n",
       "      <td>1.083065</td>\n",
       "      <td>...</td>\n",
       "      <td>0.0</td>\n",
       "      <td>0.771259</td>\n",
       "      <td>7.255135</td>\n",
       "      <td>1.145271</td>\n",
       "      <td>0.647721</td>\n",
       "      <td>5.883282</td>\n",
       "      <td>3.583398</td>\n",
       "      <td>3.045716</td>\n",
       "      <td>3.576189</td>\n",
       "      <td>0.324192</td>\n",
       "    </tr>\n",
       "    <tr>\n",
       "      <th>min</th>\n",
       "      <td>0.000000</td>\n",
       "      <td>18.000000</td>\n",
       "      <td>107.000000</td>\n",
       "      <td>1.000000</td>\n",
       "      <td>1.000000</td>\n",
       "      <td>1.0</td>\n",
       "      <td>1.000000</td>\n",
       "      <td>30.000000</td>\n",
       "      <td>1.000000</td>\n",
       "      <td>1.000000</td>\n",
       "      <td>...</td>\n",
       "      <td>80.0</td>\n",
       "      <td>0.000000</td>\n",
       "      <td>0.000000</td>\n",
       "      <td>0.000000</td>\n",
       "      <td>1.000000</td>\n",
       "      <td>0.000000</td>\n",
       "      <td>0.000000</td>\n",
       "      <td>0.000000</td>\n",
       "      <td>0.000000</td>\n",
       "      <td>0.000000</td>\n",
       "    </tr>\n",
       "    <tr>\n",
       "      <th>25%</th>\n",
       "      <td>419.000000</td>\n",
       "      <td>30.000000</td>\n",
       "      <td>589.000000</td>\n",
       "      <td>2.000000</td>\n",
       "      <td>2.000000</td>\n",
       "      <td>1.0</td>\n",
       "      <td>2.000000</td>\n",
       "      <td>51.000000</td>\n",
       "      <td>2.000000</td>\n",
       "      <td>1.000000</td>\n",
       "      <td>...</td>\n",
       "      <td>80.0</td>\n",
       "      <td>0.000000</td>\n",
       "      <td>6.000000</td>\n",
       "      <td>2.000000</td>\n",
       "      <td>2.000000</td>\n",
       "      <td>3.000000</td>\n",
       "      <td>2.000000</td>\n",
       "      <td>0.000000</td>\n",
       "      <td>2.000000</td>\n",
       "      <td>0.000000</td>\n",
       "    </tr>\n",
       "    <tr>\n",
       "      <th>50%</th>\n",
       "      <td>838.000000</td>\n",
       "      <td>35.000000</td>\n",
       "      <td>890.000000</td>\n",
       "      <td>7.000000</td>\n",
       "      <td>3.000000</td>\n",
       "      <td>1.0</td>\n",
       "      <td>3.000000</td>\n",
       "      <td>69.000000</td>\n",
       "      <td>3.000000</td>\n",
       "      <td>2.000000</td>\n",
       "      <td>...</td>\n",
       "      <td>80.0</td>\n",
       "      <td>1.000000</td>\n",
       "      <td>9.000000</td>\n",
       "      <td>3.000000</td>\n",
       "      <td>3.000000</td>\n",
       "      <td>5.000000</td>\n",
       "      <td>3.000000</td>\n",
       "      <td>1.000000</td>\n",
       "      <td>3.000000</td>\n",
       "      <td>0.000000</td>\n",
       "    </tr>\n",
       "    <tr>\n",
       "      <th>75%</th>\n",
       "      <td>1257.000000</td>\n",
       "      <td>41.000000</td>\n",
       "      <td>1223.000000</td>\n",
       "      <td>12.000000</td>\n",
       "      <td>4.000000</td>\n",
       "      <td>1.0</td>\n",
       "      <td>4.000000</td>\n",
       "      <td>84.000000</td>\n",
       "      <td>3.000000</td>\n",
       "      <td>2.000000</td>\n",
       "      <td>...</td>\n",
       "      <td>80.0</td>\n",
       "      <td>1.000000</td>\n",
       "      <td>14.000000</td>\n",
       "      <td>3.000000</td>\n",
       "      <td>3.000000</td>\n",
       "      <td>9.000000</td>\n",
       "      <td>7.000000</td>\n",
       "      <td>2.000000</td>\n",
       "      <td>7.000000</td>\n",
       "      <td>0.000000</td>\n",
       "    </tr>\n",
       "    <tr>\n",
       "      <th>max</th>\n",
       "      <td>1676.000000</td>\n",
       "      <td>60.000000</td>\n",
       "      <td>3921.000000</td>\n",
       "      <td>29.000000</td>\n",
       "      <td>15.000000</td>\n",
       "      <td>1.0</td>\n",
       "      <td>4.000000</td>\n",
       "      <td>100.000000</td>\n",
       "      <td>4.000000</td>\n",
       "      <td>7.000000</td>\n",
       "      <td>...</td>\n",
       "      <td>80.0</td>\n",
       "      <td>3.000000</td>\n",
       "      <td>41.000000</td>\n",
       "      <td>6.000000</td>\n",
       "      <td>4.000000</td>\n",
       "      <td>41.000000</td>\n",
       "      <td>18.000000</td>\n",
       "      <td>15.000000</td>\n",
       "      <td>17.000000</td>\n",
       "      <td>1.000000</td>\n",
       "    </tr>\n",
       "  </tbody>\n",
       "</table>\n",
       "<p>8 rows × 27 columns</p>\n",
       "</div>"
      ],
      "text/plain": [
       "                id          Age    DailyRate  DistanceFromHome    Education  \\\n",
       "count  1677.000000  1677.000000  1677.000000       1677.000000  1677.000000   \n",
       "mean    838.000000    36.036971   892.749553          8.683959     2.937984   \n",
       "std     484.252517     8.507112   374.496259          7.826143     1.039078   \n",
       "min       0.000000    18.000000   107.000000          1.000000     1.000000   \n",
       "25%     419.000000    30.000000   589.000000          2.000000     2.000000   \n",
       "50%     838.000000    35.000000   890.000000          7.000000     3.000000   \n",
       "75%    1257.000000    41.000000  1223.000000         12.000000     4.000000   \n",
       "max    1676.000000    60.000000  3921.000000         29.000000    15.000000   \n",
       "\n",
       "       EmployeeCount  EnvironmentSatisfaction   HourlyRate  JobInvolvement  \\\n",
       "count         1677.0              1677.000000  1677.000000     1677.000000   \n",
       "mean             1.0                 2.757901    67.798450        2.782349   \n",
       "std              0.0                 1.086835    19.435928        0.650664   \n",
       "min              1.0                 1.000000    30.000000        1.000000   \n",
       "25%              1.0                 2.000000    51.000000        2.000000   \n",
       "50%              1.0                 3.000000    69.000000        3.000000   \n",
       "75%              1.0                 4.000000    84.000000        3.000000   \n",
       "max              1.0                 4.000000   100.000000        4.000000   \n",
       "\n",
       "          JobLevel  ...  StandardHours  StockOptionLevel  TotalWorkingYears  \\\n",
       "count  1677.000000  ...         1677.0       1677.000000        1677.000000   \n",
       "mean      1.998807  ...           80.0          0.721527          10.709600   \n",
       "std       1.083065  ...            0.0          0.771259           7.255135   \n",
       "min       1.000000  ...           80.0          0.000000           0.000000   \n",
       "25%       1.000000  ...           80.0          0.000000           6.000000   \n",
       "50%       2.000000  ...           80.0          1.000000           9.000000   \n",
       "75%       2.000000  ...           80.0          1.000000          14.000000   \n",
       "max       7.000000  ...           80.0          3.000000          41.000000   \n",
       "\n",
       "       TrainingTimesLastYear  WorkLifeBalance  YearsAtCompany  \\\n",
       "count            1677.000000      1677.000000     1677.000000   \n",
       "mean                2.732856         2.769827        6.806798   \n",
       "std                 1.145271         0.647721        5.883282   \n",
       "min                 0.000000         1.000000        0.000000   \n",
       "25%                 2.000000         2.000000        3.000000   \n",
       "50%                 3.000000         3.000000        5.000000   \n",
       "75%                 3.000000         3.000000        9.000000   \n",
       "max                 6.000000         4.000000       41.000000   \n",
       "\n",
       "       YearsInCurrentRole  YearsSinceLastPromotion  YearsWithCurrManager  \\\n",
       "count         1677.000000              1677.000000           1677.000000   \n",
       "mean             4.144305                 1.978533              4.186643   \n",
       "std              3.583398                 3.045716              3.576189   \n",
       "min              0.000000                 0.000000              0.000000   \n",
       "25%              2.000000                 0.000000              2.000000   \n",
       "50%              3.000000                 1.000000              3.000000   \n",
       "75%              7.000000                 2.000000              7.000000   \n",
       "max             18.000000                15.000000             17.000000   \n",
       "\n",
       "         Attrition  \n",
       "count  1677.000000  \n",
       "mean      0.119261  \n",
       "std       0.324192  \n",
       "min       0.000000  \n",
       "25%       0.000000  \n",
       "50%       0.000000  \n",
       "75%       0.000000  \n",
       "max       1.000000  \n",
       "\n",
       "[8 rows x 27 columns]"
      ]
     },
     "execution_count": 98,
     "metadata": {},
     "output_type": "execute_result"
    }
   ],
   "source": [
    "#1. Check the int type data\n",
    "INT_LIST = ['id', 'Age',  'DailyRate', 'DistanceFromHome', 'Education',  'EmployeeCount', 'EnvironmentSatisfaction', 'HourlyRate', 'JobInvolvement', 'JobLevel', 'JobSatisfaction', 'MonthlyIncome', 'MonthlyRate', 'NumCompaniesWorked', 'PercentSalaryHike', 'PerformanceRating', 'RelationshipSatisfaction', 'StandardHours', 'StockOptionLevel', 'TotalWorkingYears', 'TrainingTimesLastYear', 'WorkLifeBalance', 'YearsAtCompany', 'YearsInCurrentRole', 'YearsSinceLastPromotion', 'YearsWithCurrManager', 'Attrition']\n",
    "train_data[INT_LIST].describe()"
   ]
  },
  {
   "cell_type": "code",
   "execution_count": 99,
   "id": "73d7c418",
   "metadata": {},
   "outputs": [
    {
     "data": {
      "text/html": [
       "<div>\n",
       "<style scoped>\n",
       "    .dataframe tbody tr th:only-of-type {\n",
       "        vertical-align: middle;\n",
       "    }\n",
       "\n",
       "    .dataframe tbody tr th {\n",
       "        vertical-align: top;\n",
       "    }\n",
       "\n",
       "    .dataframe thead th {\n",
       "        text-align: right;\n",
       "    }\n",
       "</style>\n",
       "<table border=\"1\" class=\"dataframe\">\n",
       "  <thead>\n",
       "    <tr style=\"text-align: right;\">\n",
       "      <th></th>\n",
       "      <th>BusinessTravel</th>\n",
       "      <th>Department</th>\n",
       "      <th>EducationField</th>\n",
       "      <th>Gender</th>\n",
       "      <th>JobRole</th>\n",
       "      <th>MaritalStatus</th>\n",
       "      <th>Over18</th>\n",
       "      <th>OverTime</th>\n",
       "    </tr>\n",
       "  </thead>\n",
       "  <tbody>\n",
       "    <tr>\n",
       "      <th>count</th>\n",
       "      <td>1677</td>\n",
       "      <td>1677</td>\n",
       "      <td>1677</td>\n",
       "      <td>1677</td>\n",
       "      <td>1677</td>\n",
       "      <td>1677</td>\n",
       "      <td>1677</td>\n",
       "      <td>1677</td>\n",
       "    </tr>\n",
       "    <tr>\n",
       "      <th>unique</th>\n",
       "      <td>3</td>\n",
       "      <td>3</td>\n",
       "      <td>6</td>\n",
       "      <td>2</td>\n",
       "      <td>9</td>\n",
       "      <td>3</td>\n",
       "      <td>1</td>\n",
       "      <td>2</td>\n",
       "    </tr>\n",
       "    <tr>\n",
       "      <th>top</th>\n",
       "      <td>Travel_Rarely</td>\n",
       "      <td>Research &amp; Development</td>\n",
       "      <td>Life Sciences</td>\n",
       "      <td>Male</td>\n",
       "      <td>Sales Executive</td>\n",
       "      <td>Married</td>\n",
       "      <td>Y</td>\n",
       "      <td>No</td>\n",
       "    </tr>\n",
       "    <tr>\n",
       "      <th>freq</th>\n",
       "      <td>1290</td>\n",
       "      <td>1167</td>\n",
       "      <td>775</td>\n",
       "      <td>1064</td>\n",
       "      <td>355</td>\n",
       "      <td>773</td>\n",
       "      <td>1677</td>\n",
       "      <td>1277</td>\n",
       "    </tr>\n",
       "  </tbody>\n",
       "</table>\n",
       "</div>"
      ],
      "text/plain": [
       "       BusinessTravel              Department EducationField Gender  \\\n",
       "count            1677                    1677           1677   1677   \n",
       "unique              3                       3              6      2   \n",
       "top     Travel_Rarely  Research & Development  Life Sciences   Male   \n",
       "freq             1290                    1167            775   1064   \n",
       "\n",
       "                JobRole MaritalStatus Over18 OverTime  \n",
       "count              1677          1677   1677     1677  \n",
       "unique                9             3      1        2  \n",
       "top     Sales Executive       Married      Y       No  \n",
       "freq                355           773   1677     1277  "
      ]
     },
     "execution_count": 99,
     "metadata": {},
     "output_type": "execute_result"
    }
   ],
   "source": [
    "# check the object data\n",
    "#categorical_columns = train.select_dtypes(include=\"object\").columns\n",
    "OBJECT_LIST = ['BusinessTravel',  'Department','EducationField', 'Gender',  'JobRole',  'MaritalStatus',  'Over18', 'OverTime']\n",
    "train_data[OBJECT_LIST].describe()"
   ]
  },
  {
   "cell_type": "code",
   "execution_count": 100,
   "id": "56c8689d",
   "metadata": {},
   "outputs": [],
   "source": [
    "# So we need to exclude integer data with 0 std.dev and object variable with uniqueness of 1\n",
    "# First, id should be removed because it is meanmingless for the model and prediction\n",
    "# Here are the three columns should be removed :EmployeeCount StandardHours Over18\n",
    "# also the id data should be dropped...\n",
    "train_data = train_data.drop(['EmployeeCount', 'Over18', 'StandardHours','id'], axis=1)"
   ]
  },
  {
   "cell_type": "code",
   "execution_count": 101,
   "id": "0cdc1f6d",
   "metadata": {},
   "outputs": [],
   "source": [
    "binary_threshold = 0.2"
   ]
  },
  {
   "cell_type": "code",
   "execution_count": 102,
   "id": "ed9104e5",
   "metadata": {},
   "outputs": [],
   "source": [
    "#DATA CLASSIFICATION\n",
    "#integer data:'id', 'Age',  'DailyRate', 'DistanceFromHome',  'HourlyRate',  'MonthlyIncome', 'MonthlyRate', 'NumCompaniesWorked', 'PercentSalaryHike',  'TotalWorkingYears', 'TrainingTimesLastYear', 'YearsAtCompany', 'YearsInCurrentRole', 'YearsSinceLastPromotion', 'YearsWithCurrManager', 'Attrition'\n",
    "#categorical integer data:'Education' , 'EnvironmentSatisfaction', 'JobInvolvement', 'JobLevel','JobSatisfaction', 'PerformanceRating', 'RelationshipSatisfaction', 'StockOptionLevel','WorkLifeBalance'\n",
    "#Dummies:'BusinessTravel', 'Department', 'EducationField', 'Gender', 'JobRole', 'MaritalStatus'\n",
    "\n",
    "# Here is the processing for the object variables, transfer them into dummies are the the best way\n",
    "train_data = pd.get_dummies(train_data, columns=['BusinessTravel', 'Department', 'EducationField', 'Gender', 'JobRole', 'MaritalStatus', 'OverTime'])\n",
    "#Here is the processing for the categorical integer data\n",
    "train_data['Age'] = train_data['Age'].astype('int64')\n",
    "train_data['Education'] = train_data['Education'].astype('category')\n",
    "train_data['EnvironmentSatisfaction'] = train_data['EnvironmentSatisfaction'].astype('category')\n",
    "train_data['JobInvolvement'] = train_data['JobInvolvement'].astype('category')\n",
    "train_data['JobLevel'] = train_data['JobLevel'].astype('category')\n",
    "train_data['JobSatisfaction'] = train_data['JobSatisfaction'].astype('category')\n",
    "train_data['PerformanceRating'] = train_data['PerformanceRating'].astype('category')\n",
    "train_data['RelationshipSatisfaction'] = train_data['RelationshipSatisfaction'].astype('category')\n",
    "train_data['StockOptionLevel'] = train_data['StockOptionLevel'].astype('category')\n",
    "train_data['WorkLifeBalance'] = train_data['WorkLifeBalance'].astype('category')"
   ]
  },
  {
   "cell_type": "code",
   "execution_count": 103,
   "id": "fa2d1e66",
   "metadata": {},
   "outputs": [
    {
     "data": {
      "text/plain": [
       "(1677, 52)"
      ]
     },
     "execution_count": 103,
     "metadata": {},
     "output_type": "execute_result"
    }
   ],
   "source": [
    "train_data.shape"
   ]
  },
  {
   "cell_type": "code",
   "execution_count": 104,
   "id": "da5e3dc3",
   "metadata": {},
   "outputs": [
    {
     "data": {
      "text/plain": [
       "<function matplotlib.pyplot.tight_layout(*, pad=1.08, h_pad=None, w_pad=None, rect=None)>"
      ]
     },
     "execution_count": 104,
     "metadata": {},
     "output_type": "execute_result"
    },
    {
     "data": {
      "text/plain": [
       "<Figure size 2000x2000 with 0 Axes>"
      ]
     },
     "metadata": {},
     "output_type": "display_data"
    },
    {
     "data": {
      "image/png": "[encoded data removed]",
      "text/plain": [
       "<Figure size 2000x2000 with 49 Axes>"
      ]
     },
     "metadata": {},
     "output_type": "display_data"
    }
   ],
   "source": [
    "#show figures\n",
    "plt.figure(figsize=(20,20))\n",
    "train_data.hist(figsize=(20,20))\n",
    "plt.tight_layout"
   ]
  },
  {
   "cell_type": "code",
   "execution_count": 105,
   "id": "fa0a822b",
   "metadata": {},
   "outputs": [],
   "source": [
    "#import for the cleaned data\n",
    "train_data.to_csv('cleaned_train_data.csv', index=False)"
   ]
  },
  {
   "cell_type": "code",
   "execution_count": 106,
   "id": "cf0f04c0",
   "metadata": {},
   "outputs": [
    {
     "data": {
      "image/png": "[encoded data removed]",
      "text/plain": [
       "<Figure size 640x480 with 1 Axes>"
      ]
     },
     "metadata": {},
     "output_type": "display_data"
    }
   ],
   "source": [
    "#DATA VISUALIZATION\n",
    "attrition_counts = train_data['Attrition'].value_counts()\n",
    "labels = ['Retention', 'Attrition']\n",
    "plt.pie(attrition_counts, labels=labels, autopct='%1.1f%%')\n",
    "plt.title('Attrition Distribution')\n",
    "plt.show()"
   ]
  },
  {
   "cell_type": "code",
   "execution_count": null,
   "id": "8790bf65",
   "metadata": {},
   "outputs": [],
   "source": []
  },
  {
   "cell_type": "code",
   "execution_count": 107,
   "id": "e7d0be2e",
   "metadata": {},
   "outputs": [
    {
     "data": {
      "text/plain": [
       "Index(['Age', 'DailyRate', 'DistanceFromHome', 'Education',\n",
       "       'EnvironmentSatisfaction', 'HourlyRate', 'JobInvolvement', 'JobLevel',\n",
       "       'JobSatisfaction', 'MonthlyIncome', 'MonthlyRate', 'NumCompaniesWorked',\n",
       "       'PercentSalaryHike', 'PerformanceRating', 'RelationshipSatisfaction',\n",
       "       'StockOptionLevel', 'TotalWorkingYears', 'TrainingTimesLastYear',\n",
       "       'WorkLifeBalance', 'YearsAtCompany', 'YearsInCurrentRole',\n",
       "       'YearsSinceLastPromotion', 'YearsWithCurrManager', 'Attrition',\n",
       "       'BusinessTravel_Non-Travel', 'BusinessTravel_Travel_Frequently',\n",
       "       'BusinessTravel_Travel_Rarely', 'Department_Human Resources',\n",
       "       'Department_Research & Development', 'Department_Sales',\n",
       "       'EducationField_Human Resources', 'EducationField_Life Sciences',\n",
       "       'EducationField_Marketing', 'EducationField_Medical',\n",
       "       'EducationField_Other', 'EducationField_Technical Degree',\n",
       "       'Gender_Female', 'Gender_Male', 'JobRole_Healthcare Representative',\n",
       "       'JobRole_Human Resources', 'JobRole_Laboratory Technician',\n",
       "       'JobRole_Manager', 'JobRole_Manufacturing Director',\n",
       "       'JobRole_Research Director', 'JobRole_Research Scientist',\n",
       "       'JobRole_Sales Executive', 'JobRole_Sales Representative',\n",
       "       'MaritalStatus_Divorced', 'MaritalStatus_Married',\n",
       "       'MaritalStatus_Single', 'OverTime_No', 'OverTime_Yes'],\n",
       "      dtype='object')"
      ]
     },
     "execution_count": 107,
     "metadata": {},
     "output_type": "execute_result"
    }
   ],
   "source": [
    "train_data.columns"
   ]
  },
  {
   "cell_type": "code",
   "execution_count": 108,
   "id": "d1833155",
   "metadata": {},
   "outputs": [],
   "source": [
    "# This chart shows the percentage of employees who have left (attrition) the company versus those who have not (retention). \n",
    "# In this case, we can see that 11.9% of employees in the dataset have left the company, while the remaining 88.1% are still employed.\n",
    "# This information can be useful for HR managers and company leaders as they make decisions about employee retention and workforce planning. \n",
    "# Compare with company's attrition rate with the average attrition rate in the same industry, HR can judge their strategy for employing\n",
    "# For example, if a company has a high attrition rate, they may need to investigate the reasons why employees are leaving \n",
    "# and take steps to address these issues in order to retain their workforce. \n",
    "# On the other hand, if a company has a low attrition rate, they may want to focus on strategies to attract \n",
    "# and retain top talent in a competitive job market"
   ]
  },
  {
   "cell_type": "code",
   "execution_count": 109,
   "id": "22933914",
   "metadata": {},
   "outputs": [
    {
     "data": {
      "application/vnd.plotly.v1+json": {
       "config": {
        "plotlyServerURL": "https://plot.ly"
       },
       "data": [
        {
         "hovertemplate": "Job Level: %{x}<br>Count: %{y}",
         "name": "Retention",
         "type": "bar",
         "x": [
          1,
          2,
          3,
          4,
          5,
          7
         ],
         "y": [
          528,
          575,
          214,
          89,
          70,
          1
         ]
        },
        {
         "hovertemplate": "Job Level: %{x}<br>Count: %{y}",
         "name": "Attrition",
         "type": "bar",
         "x": [
          1,
          2,
          3,
          4,
          5,
          7
         ],
         "y": [
          127,
          42,
          21,
          5,
          5,
          0
         ]
        }
       ],
       "layout": {
        "barmode": "group",
        "template": {
         "data": {
          "bar": [
           {
            "error_x": {
             "color": "#2a3f5f"
            },
            "error_y": {
             "color": "#2a3f5f"
            },
            "marker": {
             "line": {
              "color": "#E5ECF6",
              "width": 0.5
             },
             "pattern": {
              "fillmode": "overlay",
              "size": 10,
              "solidity": 0.2
             }
            },
            "type": "bar"
           }
          ],
          "barpolar": [
           {
            "marker": {
             "line": {
              "color": "#E5ECF6",
              "width": 0.5
             },
             "pattern": {
              "fillmode": "overlay",
              "size": 10,
              "solidity": 0.2
             }
            },
            "type": "barpolar"
           }
          ],
          "carpet": [
           {
            "aaxis": {
             "endlinecolor": "#2a3f5f",
             "gridcolor": "white",
             "linecolor": "white",
             "minorgridcolor": "white",
             "startlinecolor": "#2a3f5f"
            },
            "baxis": {
             "endlinecolor": "#2a3f5f",
             "gridcolor": "white",
             "linecolor": "white",
             "minorgridcolor": "white",
             "startlinecolor": "#2a3f5f"
            },
            "type": "carpet"
           }
          ],
          "choropleth": [
           {
            "colorbar": {
             "outlinewidth": 0,
             "ticks": ""
            },
            "type": "choropleth"
           }
          ],
          "contour": [
           {
            "colorbar": {
             "outlinewidth": 0,
             "ticks": ""
            },
            "colorscale": [
             [
              0,
              "#0d0887"
             ],
             [
              0.1111111111111111,
              "#46039f"
             ],
             [
              0.2222222222222222,
              "#7201a8"
             ],
             [
              0.3333333333333333,
              "#9c179e"
             ],
             [
              0.4444444444444444,
              "#bd3786"
             ],
             [
              0.5555555555555556,
              "#d8576b"
             ],
             [
              0.6666666666666666,
              "#ed7953"
             ],
             [
              0.7777777777777778,
              "#fb9f3a"
             ],
             [
              0.8888888888888888,
              "#fdca26"
             ],
             [
              1,
              "#f0f921"
             ]
            ],
            "type": "contour"
           }
          ],
          "contourcarpet": [
           {
            "colorbar": {
             "outlinewidth": 0,
             "ticks": ""
            },
            "type": "contourcarpet"
           }
          ],
          "heatmap": [
           {
            "colorbar": {
             "outlinewidth": 0,
             "ticks": ""
            },
            "colorscale": [
             [
              0,
              "#0d0887"
             ],
             [
              0.1111111111111111,
              "#46039f"
             ],
             [
              0.2222222222222222,
              "#7201a8"
             ],
             [
              0.3333333333333333,
              "#9c179e"
             ],
             [
              0.4444444444444444,
              "#bd3786"
             ],
             [
              0.5555555555555556,
              "#d8576b"
             ],
             [
              0.6666666666666666,
              "#ed7953"
             ],
             [
              0.7777777777777778,
              "#fb9f3a"
             ],
             [
              0.8888888888888888,
              "#fdca26"
             ],
             [
              1,
              "#f0f921"
             ]
            ],
            "type": "heatmap"
           }
          ],
          "heatmapgl": [
           {
            "colorbar": {
             "outlinewidth": 0,
             "ticks": ""
            },
            "colorscale": [
             [
              0,
              "#0d0887"
             ],
             [
              0.1111111111111111,
              "#46039f"
             ],
             [
              0.2222222222222222,
              "#7201a8"
             ],
             [
              0.3333333333333333,
              "#9c179e"
             ],
             [
              0.4444444444444444,
              "#bd3786"
             ],
             [
              0.5555555555555556,
              "#d8576b"
             ],
             [
              0.6666666666666666,
              "#ed7953"
             ],
             [
              0.7777777777777778,
              "#fb9f3a"
             ],
             [
              0.8888888888888888,
              "#fdca26"
             ],
             [
              1,
              "#f0f921"
             ]
            ],
            "type": "heatmapgl"
           }
          ],
          "histogram": [
           {
            "marker": {
             "pattern": {
              "fillmode": "overlay",
              "size": 10,
              "solidity": 0.2
             }
            },
            "type": "histogram"
           }
          ],
          "histogram2d": [
           {
            "colorbar": {
             "outlinewidth": 0,
             "ticks": ""
            },
            "colorscale": [
             [
              0,
              "#0d0887"
             ],
             [
              0.1111111111111111,
              "#46039f"
             ],
             [
              0.2222222222222222,
              "#7201a8"
             ],
             [
              0.3333333333333333,
              "#9c179e"
             ],
             [
              0.4444444444444444,
              "#bd3786"
             ],
             [
              0.5555555555555556,
              "#d8576b"
             ],
             [
              0.6666666666666666,
              "#ed7953"
             ],
             [
              0.7777777777777778,
              "#fb9f3a"
             ],
             [
              0.8888888888888888,
              "#fdca26"
             ],
             [
              1,
              "#f0f921"
             ]
            ],
            "type": "histogram2d"
           }
          ],
          "histogram2dcontour": [
           {
            "colorbar": {
             "outlinewidth": 0,
             "ticks": ""
            },
            "colorscale": [
             [
              0,
              "#0d0887"
             ],
             [
              0.1111111111111111,
              "#46039f"
             ],
             [
              0.2222222222222222,
              "#7201a8"
             ],
             [
              0.3333333333333333,
              "#9c179e"
             ],
             [
              0.4444444444444444,
              "#bd3786"
             ],
             [
              0.5555555555555556,
              "#d8576b"
             ],
             [
              0.6666666666666666,
              "#ed7953"
             ],
             [
              0.7777777777777778,
              "#fb9f3a"
             ],
             [
              0.8888888888888888,
              "#fdca26"
             ],
             [
              1,
              "#f0f921"
             ]
            ],
            "type": "histogram2dcontour"
           }
          ],
          "mesh3d": [
           {
            "colorbar": {
             "outlinewidth": 0,
             "ticks": ""
            },
            "type": "mesh3d"
           }
          ],
          "parcoords": [
           {
            "line": {
             "colorbar": {
              "outlinewidth": 0,
              "ticks": ""
             }
            },
            "type": "parcoords"
           }
          ],
          "pie": [
           {
            "automargin": true,
            "type": "pie"
           }
          ],
          "scatter": [
           {
            "fillpattern": {
             "fillmode": "overlay",
             "size": 10,
             "solidity": 0.2
            },
            "type": "scatter"
           }
          ],
          "scatter3d": [
           {
            "line": {
             "colorbar": {
              "outlinewidth": 0,
              "ticks": ""
             }
            },
            "marker": {
             "colorbar": {
              "outlinewidth": 0,
              "ticks": ""
             }
            },
            "type": "scatter3d"
           }
          ],
          "scattercarpet": [
           {
            "marker": {
             "colorbar": {
              "outlinewidth": 0,
              "ticks": ""
             }
            },
            "type": "scattercarpet"
           }
          ],
          "scattergeo": [
           {
            "marker": {
             "colorbar": {
              "outlinewidth": 0,
              "ticks": ""
             }
            },
            "type": "scattergeo"
           }
          ],
          "scattergl": [
           {
            "marker": {
             "colorbar": {
              "outlinewidth": 0,
              "ticks": ""
             }
            },
            "type": "scattergl"
           }
          ],
          "scattermapbox": [
           {
            "marker": {
             "colorbar": {
              "outlinewidth": 0,
              "ticks": ""
             }
            },
            "type": "scattermapbox"
           }
          ],
          "scatterpolar": [
           {
            "marker": {
             "colorbar": {
              "outlinewidth": 0,
              "ticks": ""
             }
            },
            "type": "scatterpolar"
           }
          ],
          "scatterpolargl": [
           {
            "marker": {
             "colorbar": {
              "outlinewidth": 0,
              "ticks": ""
             }
            },
            "type": "scatterpolargl"
           }
          ],
          "scatterternary": [
           {
            "marker": {
             "colorbar": {
              "outlinewidth": 0,
              "ticks": ""
             }
            },
            "type": "scatterternary"
           }
          ],
          "surface": [
           {
            "colorbar": {
             "outlinewidth": 0,
             "ticks": ""
            },
            "colorscale": [
             [
              0,
              "#0d0887"
             ],
             [
              0.1111111111111111,
              "#46039f"
             ],
             [
              0.2222222222222222,
              "#7201a8"
             ],
             [
              0.3333333333333333,
              "#9c179e"
             ],
             [
              0.4444444444444444,
              "#bd3786"
             ],
             [
              0.5555555555555556,
              "#d8576b"
             ],
             [
              0.6666666666666666,
              "#ed7953"
             ],
             [
              0.7777777777777778,
              "#fb9f3a"
             ],
             [
              0.8888888888888888,
              "#fdca26"
             ],
             [
              1,
              "#f0f921"
             ]
            ],
            "type": "surface"
           }
          ],
          "table": [
           {
            "cells": {
             "fill": {
              "color": "#EBF0F8"
             },
             "line": {
              "color": "white"
             }
            },
            "header": {
             "fill": {
              "color": "#C8D4E3"
             },
             "line": {
              "color": "white"
             }
            },
            "type": "table"
           }
          ]
         },
         "layout": {
          "annotationdefaults": {
           "arrowcolor": "#2a3f5f",
           "arrowhead": 0,
           "arrowwidth": 1
          },
          "autotypenumbers": "strict",
          "coloraxis": {
           "colorbar": {
            "outlinewidth": 0,
            "ticks": ""
           }
          },
          "colorscale": {
           "diverging": [
            [
             0,
             "#8e0152"
            ],
            [
             0.1,
             "#c51b7d"
            ],
            [
             0.2,
             "#de77ae"
            ],
            [
             0.3,
             "#f1b6da"
            ],
            [
             0.4,
             "#fde0ef"
            ],
            [
             0.5,
             "#f7f7f7"
            ],
            [
             0.6,
             "#e6f5d0"
            ],
            [
             0.7,
             "#b8e186"
            ],
            [
             0.8,
             "#7fbc41"
            ],
            [
             0.9,
             "#4d9221"
            ],
            [
             1,
             "#276419"
            ]
           ],
           "sequential": [
            [
             0,
             "#0d0887"
            ],
            [
             0.1111111111111111,
             "#46039f"
            ],
            [
             0.2222222222222222,
             "#7201a8"
            ],
            [
             0.3333333333333333,
             "#9c179e"
            ],
            [
             0.4444444444444444,
             "#bd3786"
            ],
            [
             0.5555555555555556,
             "#d8576b"
            ],
            [
             0.6666666666666666,
             "#ed7953"
            ],
            [
             0.7777777777777778,
             "#fb9f3a"
            ],
            [
             0.8888888888888888,
             "#fdca26"
            ],
            [
             1,
             "#f0f921"
            ]
           ],
           "sequentialminus": [
            [
             0,
             "#0d0887"
            ],
            [
             0.1111111111111111,
             "#46039f"
            ],
            [
             0.2222222222222222,
             "#7201a8"
            ],
            [
             0.3333333333333333,
             "#9c179e"
            ],
            [
             0.4444444444444444,
             "#bd3786"
            ],
            [
             0.5555555555555556,
             "#d8576b"
            ],
            [
             0.6666666666666666,
             "#ed7953"
            ],
            [
             0.7777777777777778,
             "#fb9f3a"
            ],
            [
             0.8888888888888888,
             "#fdca26"
            ],
            [
             1,
             "#f0f921"
            ]
           ]
          },
          "colorway": [
           "#636efa",
           "#EF553B",
           "#00cc96",
           "#ab63fa",
           "#FFA15A",
           "#19d3f3",
           "#FF6692",
           "#B6E880",
           "#FF97FF",
           "#FECB52"
          ],
          "font": {
           "color": "#2a3f5f"
          },
          "geo": {
           "bgcolor": "white",
           "lakecolor": "white",
           "landcolor": "#E5ECF6",
           "showlakes": true,
           "showland": true,
           "subunitcolor": "white"
          },
          "hoverlabel": {
           "align": "left"
          },
          "hovermode": "closest",
          "mapbox": {
           "style": "light"
          },
          "paper_bgcolor": "white",
          "plot_bgcolor": "#E5ECF6",
          "polar": {
           "angularaxis": {
            "gridcolor": "white",
            "linecolor": "white",
            "ticks": ""
           },
           "bgcolor": "#E5ECF6",
           "radialaxis": {
            "gridcolor": "white",
            "linecolor": "white",
            "ticks": ""
           }
          },
          "scene": {
           "xaxis": {
            "backgroundcolor": "#E5ECF6",
            "gridcolor": "white",
            "gridwidth": 2,
            "linecolor": "white",
            "showbackground": true,
            "ticks": "",
            "zerolinecolor": "white"
           },
           "yaxis": {
            "backgroundcolor": "#E5ECF6",
            "gridcolor": "white",
            "gridwidth": 2,
            "linecolor": "white",
            "showbackground": true,
            "ticks": "",
            "zerolinecolor": "white"
           },
           "zaxis": {
            "backgroundcolor": "#E5ECF6",
            "gridcolor": "white",
            "gridwidth": 2,
            "linecolor": "white",
            "showbackground": true,
            "ticks": "",
            "zerolinecolor": "white"
           }
          },
          "shapedefaults": {
           "line": {
            "color": "#2a3f5f"
           }
          },
          "ternary": {
           "aaxis": {
            "gridcolor": "white",
            "linecolor": "white",
            "ticks": ""
           },
           "baxis": {
            "gridcolor": "white",
            "linecolor": "white",
            "ticks": ""
           },
           "bgcolor": "#E5ECF6",
           "caxis": {
            "gridcolor": "white",
            "linecolor": "white",
            "ticks": ""
           }
          },
          "title": {
           "x": 0.05
          },
          "xaxis": {
           "automargin": true,
           "gridcolor": "white",
           "linecolor": "white",
           "ticks": "",
           "title": {
            "standoff": 15
           },
           "zerolinecolor": "white",
           "zerolinewidth": 2
          },
          "yaxis": {
           "automargin": true,
           "gridcolor": "white",
           "linecolor": "white",
           "ticks": "",
           "title": {
            "standoff": 15
           },
           "zerolinecolor": "white",
           "zerolinewidth": 2
          }
         }
        },
        "title": {
         "text": "Attrition and Retention by Job Level"
        },
        "xaxis": {
         "title": {
          "text": "Job Level"
         }
        },
        "yaxis": {
         "title": {
          "text": "No. of Employee"
         }
        }
       }
      },
      "text/html": [
       "<div>                            <div id=\"aa342944-9062-4c8a-8473-6a041c558377\" class=\"plotly-graph-div\" style=\"height:525px; width:100%;\"></div>            <script type=\"text/javascript\">                require([\"plotly\"], function(Plotly) {                    window.PLOTLYENV=window.PLOTLYENV || {};                                    if (document.getElementById(\"aa342944-9062-4c8a-8473-6a041c558377\")) {                    Plotly.newPlot(                        \"aa342944-9062-4c8a-8473-6a041c558377\",                        [{\"name\":\"Retention\",\"x\":[1,2,3,4,5,7],\"y\":[528,575,214,89,70,1],\"type\":\"bar\",\"hovertemplate\":\"Job Level: %{x}<br>Count: %{y}\"},{\"name\":\"Attrition\",\"x\":[1,2,3,4,5,7],\"y\":[127,42,21,5,5,0],\"type\":\"bar\",\"hovertemplate\":\"Job Level: %{x}<br>Count: %{y}\"}],                        {\"template\":{\"data\":{\"histogram2dcontour\":[{\"type\":\"histogram2dcontour\",\"colorbar\":{\"outlinewidth\":0,\"ticks\":\"\"},\"colorscale\":[[0.0,\"#0d0887\"],[0.1111111111111111,\"#46039f\"],[0.2222222222222222,\"#7201a8\"],[0.3333333333333333,\"#9c179e\"],[0.4444444444444444,\"#bd3786\"],[0.5555555555555556,\"#d8576b\"],[0.6666666666666666,\"#ed7953\"],[0.7777777777777778,\"#fb9f3a\"],[0.8888888888888888,\"#fdca26\"],[1.0,\"#f0f921\"]]}],\"choropleth\":[{\"type\":\"choropleth\",\"colorbar\":{\"outlinewidth\":0,\"ticks\":\"\"}}],\"histogram2d\":[{\"type\":\"histogram2d\",\"colorbar\":{\"outlinewidth\":0,\"ticks\":\"\"},\"colorscale\":[[0.0,\"#0d0887\"],[0.1111111111111111,\"#46039f\"],[0.2222222222222222,\"#7201a8\"],[0.3333333333333333,\"#9c179e\"],[0.4444444444444444,\"#bd3786\"],[0.5555555555555556,\"#d8576b\"],[0.6666666666666666,\"#ed7953\"],[0.7777777777777778,\"#fb9f3a\"],[0.8888888888888888,\"#fdca26\"],[1.0,\"#f0f921\"]]}],\"heatmap\":[{\"type\":\"heatmap\",\"colorbar\":{\"outlinewidth\":0,\"ticks\":\"\"},\"colorscale\":[[0.0,\"#0d0887\"],[0.1111111111111111,\"#46039f\"],[0.2222222222222222,\"#7201a8\"],[0.3333333333333333,\"#9c179e\"],[0.4444444444444444,\"#bd3786\"],[0.5555555555555556,\"#d8576b\"],[0.6666666666666666,\"#ed7953\"],[0.7777777777777778,\"#fb9f3a\"],[0.8888888888888888,\"#fdca26\"],[1.0,\"#f0f921\"]]}],\"heatmapgl\":[{\"type\":\"heatmapgl\",\"colorbar\":{\"outlinewidth\":0,\"ticks\":\"\"},\"colorscale\":[[0.0,\"#0d0887\"],[0.1111111111111111,\"#46039f\"],[0.2222222222222222,\"#7201a8\"],[0.3333333333333333,\"#9c179e\"],[0.4444444444444444,\"#bd3786\"],[0.5555555555555556,\"#d8576b\"],[0.6666666666666666,\"#ed7953\"],[0.7777777777777778,\"#fb9f3a\"],[0.8888888888888888,\"#fdca26\"],[1.0,\"#f0f921\"]]}],\"contourcarpet\":[{\"type\":\"contourcarpet\",\"colorbar\":{\"outlinewidth\":0,\"ticks\":\"\"}}],\"contour\":[{\"type\":\"contour\",\"colorbar\":{\"outlinewidth\":0,\"ticks\":\"\"},\"colorscale\":[[0.0,\"#0d0887\"],[0.1111111111111111,\"#46039f\"],[0.2222222222222222,\"#7201a8\"],[0.3333333333333333,\"#9c179e\"],[0.4444444444444444,\"#bd3786\"],[0.5555555555555556,\"#d8576b\"],[0.6666666666666666,\"#ed7953\"],[0.7777777777777778,\"#fb9f3a\"],[0.8888888888888888,\"#fdca26\"],[1.0,\"#f0f921\"]]}],\"surface\":[{\"type\":\"surface\",\"colorbar\":{\"outlinewidth\":0,\"ticks\":\"\"},\"colorscale\":[[0.0,\"#0d0887\"],[0.1111111111111111,\"#46039f\"],[0.2222222222222222,\"#7201a8\"],[0.3333333333333333,\"#9c179e\"],[0.4444444444444444,\"#bd3786\"],[0.5555555555555556,\"#d8576b\"],[0.6666666666666666,\"#ed7953\"],[0.7777777777777778,\"#fb9f3a\"],[0.8888888888888888,\"#fdca26\"],[1.0,\"#f0f921\"]]}],\"mesh3d\":[{\"type\":\"mesh3d\",\"colorbar\":{\"outlinewidth\":0,\"ticks\":\"\"}}],\"scatter\":[{\"fillpattern\":{\"fillmode\":\"overlay\",\"size\":10,\"solidity\":0.2},\"type\":\"scatter\"}],\"parcoords\":[{\"type\":\"parcoords\",\"line\":{\"colorbar\":{\"outlinewidth\":0,\"ticks\":\"\"}}}],\"scatterpolargl\":[{\"type\":\"scatterpolargl\",\"marker\":{\"colorbar\":{\"outlinewidth\":0,\"ticks\":\"\"}}}],\"bar\":[{\"error_x\":{\"color\":\"#2a3f5f\"},\"error_y\":{\"color\":\"#2a3f5f\"},\"marker\":{\"line\":{\"color\":\"#E5ECF6\",\"width\":0.5},\"pattern\":{\"fillmode\":\"overlay\",\"size\":10,\"solidity\":0.2}},\"type\":\"bar\"}],\"scattergeo\":[{\"type\":\"scattergeo\",\"marker\":{\"colorbar\":{\"outlinewidth\":0,\"ticks\":\"\"}}}],\"scatterpolar\":[{\"type\":\"scatterpolar\",\"marker\":{\"colorbar\":{\"outlinewidth\":0,\"ticks\":\"\"}}}],\"histogram\":[{\"marker\":{\"pattern\":{\"fillmode\":\"overlay\",\"size\":10,\"solidity\":0.2}},\"type\":\"histogram\"}],\"scattergl\":[{\"type\":\"scattergl\",\"marker\":{\"colorbar\":{\"outlinewidth\":0,\"ticks\":\"\"}}}],\"scatter3d\":[{\"type\":\"scatter3d\",\"line\":{\"colorbar\":{\"outlinewidth\":0,\"ticks\":\"\"}},\"marker\":{\"colorbar\":{\"outlinewidth\":0,\"ticks\":\"\"}}}],\"scattermapbox\":[{\"type\":\"scattermapbox\",\"marker\":{\"colorbar\":{\"outlinewidth\":0,\"ticks\":\"\"}}}],\"scatterternary\":[{\"type\":\"scatterternary\",\"marker\":{\"colorbar\":{\"outlinewidth\":0,\"ticks\":\"\"}}}],\"scattercarpet\":[{\"type\":\"scattercarpet\",\"marker\":{\"colorbar\":{\"outlinewidth\":0,\"ticks\":\"\"}}}],\"carpet\":[{\"aaxis\":{\"endlinecolor\":\"#2a3f5f\",\"gridcolor\":\"white\",\"linecolor\":\"white\",\"minorgridcolor\":\"white\",\"startlinecolor\":\"#2a3f5f\"},\"baxis\":{\"endlinecolor\":\"#2a3f5f\",\"gridcolor\":\"white\",\"linecolor\":\"white\",\"minorgridcolor\":\"white\",\"startlinecolor\":\"#2a3f5f\"},\"type\":\"carpet\"}],\"table\":[{\"cells\":{\"fill\":{\"color\":\"#EBF0F8\"},\"line\":{\"color\":\"white\"}},\"header\":{\"fill\":{\"color\":\"#C8D4E3\"},\"line\":{\"color\":\"white\"}},\"type\":\"table\"}],\"barpolar\":[{\"marker\":{\"line\":{\"color\":\"#E5ECF6\",\"width\":0.5},\"pattern\":{\"fillmode\":\"overlay\",\"size\":10,\"solidity\":0.2}},\"type\":\"barpolar\"}],\"pie\":[{\"automargin\":true,\"type\":\"pie\"}]},\"layout\":{\"autotypenumbers\":\"strict\",\"colorway\":[\"#636efa\",\"#EF553B\",\"#00cc96\",\"#ab63fa\",\"#FFA15A\",\"#19d3f3\",\"#FF6692\",\"#B6E880\",\"#FF97FF\",\"#FECB52\"],\"font\":{\"color\":\"#2a3f5f\"},\"hovermode\":\"closest\",\"hoverlabel\":{\"align\":\"left\"},\"paper_bgcolor\":\"white\",\"plot_bgcolor\":\"#E5ECF6\",\"polar\":{\"bgcolor\":\"#E5ECF6\",\"angularaxis\":{\"gridcolor\":\"white\",\"linecolor\":\"white\",\"ticks\":\"\"},\"radialaxis\":{\"gridcolor\":\"white\",\"linecolor\":\"white\",\"ticks\":\"\"}},\"ternary\":{\"bgcolor\":\"#E5ECF6\",\"aaxis\":{\"gridcolor\":\"white\",\"linecolor\":\"white\",\"ticks\":\"\"},\"baxis\":{\"gridcolor\":\"white\",\"linecolor\":\"white\",\"ticks\":\"\"},\"caxis\":{\"gridcolor\":\"white\",\"linecolor\":\"white\",\"ticks\":\"\"}},\"coloraxis\":{\"colorbar\":{\"outlinewidth\":0,\"ticks\":\"\"}},\"colorscale\":{\"sequential\":[[0.0,\"#0d0887\"],[0.1111111111111111,\"#46039f\"],[0.2222222222222222,\"#7201a8\"],[0.3333333333333333,\"#9c179e\"],[0.4444444444444444,\"#bd3786\"],[0.5555555555555556,\"#d8576b\"],[0.6666666666666666,\"#ed7953\"],[0.7777777777777778,\"#fb9f3a\"],[0.8888888888888888,\"#fdca26\"],[1.0,\"#f0f921\"]],\"sequentialminus\":[[0.0,\"#0d0887\"],[0.1111111111111111,\"#46039f\"],[0.2222222222222222,\"#7201a8\"],[0.3333333333333333,\"#9c179e\"],[0.4444444444444444,\"#bd3786\"],[0.5555555555555556,\"#d8576b\"],[0.6666666666666666,\"#ed7953\"],[0.7777777777777778,\"#fb9f3a\"],[0.8888888888888888,\"#fdca26\"],[1.0,\"#f0f921\"]],\"diverging\":[[0,\"#8e0152\"],[0.1,\"#c51b7d\"],[0.2,\"#de77ae\"],[0.3,\"#f1b6da\"],[0.4,\"#fde0ef\"],[0.5,\"#f7f7f7\"],[0.6,\"#e6f5d0\"],[0.7,\"#b8e186\"],[0.8,\"#7fbc41\"],[0.9,\"#4d9221\"],[1,\"#276419\"]]},\"xaxis\":{\"gridcolor\":\"white\",\"linecolor\":\"white\",\"ticks\":\"\",\"title\":{\"standoff\":15},\"zerolinecolor\":\"white\",\"automargin\":true,\"zerolinewidth\":2},\"yaxis\":{\"gridcolor\":\"white\",\"linecolor\":\"white\",\"ticks\":\"\",\"title\":{\"standoff\":15},\"zerolinecolor\":\"white\",\"automargin\":true,\"zerolinewidth\":2},\"scene\":{\"xaxis\":{\"backgroundcolor\":\"#E5ECF6\",\"gridcolor\":\"white\",\"linecolor\":\"white\",\"showbackground\":true,\"ticks\":\"\",\"zerolinecolor\":\"white\",\"gridwidth\":2},\"yaxis\":{\"backgroundcolor\":\"#E5ECF6\",\"gridcolor\":\"white\",\"linecolor\":\"white\",\"showbackground\":true,\"ticks\":\"\",\"zerolinecolor\":\"white\",\"gridwidth\":2},\"zaxis\":{\"backgroundcolor\":\"#E5ECF6\",\"gridcolor\":\"white\",\"linecolor\":\"white\",\"showbackground\":true,\"ticks\":\"\",\"zerolinecolor\":\"white\",\"gridwidth\":2}},\"shapedefaults\":{\"line\":{\"color\":\"#2a3f5f\"}},\"annotationdefaults\":{\"arrowcolor\":\"#2a3f5f\",\"arrowhead\":0,\"arrowwidth\":1},\"geo\":{\"bgcolor\":\"white\",\"landcolor\":\"#E5ECF6\",\"subunitcolor\":\"white\",\"showland\":true,\"showlakes\":true,\"lakecolor\":\"white\"},\"title\":{\"x\":0.05},\"mapbox\":{\"style\":\"light\"}}},\"title\":{\"text\":\"Attrition and Retention by Job Level\"},\"xaxis\":{\"title\":{\"text\":\"Job Level\"}},\"yaxis\":{\"title\":{\"text\":\"No. of Employee\"}},\"barmode\":\"group\"},                        {\"responsive\": true}                    ).then(function(){\n",
       "                            \n",
       "var gd = document.getElementById('aa342944-9062-4c8a-8473-6a041c558377');\n",
       "var x = new MutationObserver(function (mutations, observer) {{\n",
       "        var display = window.getComputedStyle(gd).display;\n",
       "        if (!display || display === 'none') {{\n",
       "            console.log([gd, 'removed!']);\n",
       "            Plotly.purge(gd);\n",
       "            observer.disconnect();\n",
       "        }}\n",
       "}});\n",
       "\n",
       "// Listen for the removal of the full notebook cells\n",
       "var notebookContainer = gd.closest('#notebook-container');\n",
       "if (notebookContainer) {{\n",
       "    x.observe(notebookContainer, {childList: true});\n",
       "}}\n",
       "\n",
       "// Listen for the clearing of the current output cell\n",
       "var outputEl = gd.closest('.output');\n",
       "if (outputEl) {{\n",
       "    x.observe(outputEl, {childList: true});\n",
       "}}\n",
       "\n",
       "                        })                };                });            </script>        </div>"
      ]
     },
     "metadata": {},
     "output_type": "display_data"
    }
   ],
   "source": [
    "# Get the count of employees for each combination of job level and attrition\n",
    "counts = train_data.groupby(['JobLevel', 'Attrition']).size().reset_index(name='Count')\n",
    "\n",
    "# Pivot the table to get a dataframe that has JobLevel as rows, and attrition count for 0 and 1 as columns\n",
    "pivoted_counts = counts.pivot(index='JobLevel', columns='Attrition', values='Count')\n",
    "\n",
    "# Create the bar plot\n",
    "fig = go.Figure()\n",
    "\n",
    "fig.add_trace(go.Bar(x=pivoted_counts.index, y=pivoted_counts[0], name='Retention'))\n",
    "fig.add_trace(go.Bar(x=pivoted_counts.index, y=pivoted_counts[1], name='Attrition'))\n",
    "\n",
    "# Update the layout\n",
    "fig.update_layout(title='Attrition and Retention by Job Level',\n",
    "                  xaxis_title='Job Level',\n",
    "                  yaxis_title='No. of Employee',\n",
    "                  barmode='group')\n",
    "\n",
    "# Add hover information\n",
    "fig.update_traces(hovertemplate='Job Level: %{x}<br>Count: %{y}')\n",
    "\n",
    "# Show the plot\n",
    "fig.show()"
   ]
  },
  {
   "cell_type": "markdown",
   "id": "4e0b858f",
   "metadata": {},
   "source": [
    "3. SEPARATE TRAIN, DEV, AND TEST COMPONENTS"
   ]
  },
  {
   "cell_type": "code",
   "execution_count": 110,
   "id": "6dce61d4",
   "metadata": {},
   "outputs": [],
   "source": [
    "#Seperate the data  \n",
    "#There are 1677 obsrervations, split it with the ratio 0.8, 0.1, 0.1 for the train, dev and test set!\n",
    "train = train_data[:1341]\n",
    "dev = train_data[1341:1510]\n",
    "test = train_data[1510:]\n",
    "X_train = train[['Age', 'DailyRate', 'DistanceFromHome', 'Education',\n",
    "       'EnvironmentSatisfaction', 'HourlyRate', 'JobInvolvement', 'JobLevel',\n",
    "       'JobSatisfaction', 'MonthlyIncome', 'MonthlyRate', 'NumCompaniesWorked',\n",
    "       'PercentSalaryHike', 'PerformanceRating', 'RelationshipSatisfaction',\n",
    "       'StockOptionLevel', 'TotalWorkingYears', 'TrainingTimesLastYear',\n",
    "       'WorkLifeBalance', 'YearsAtCompany', 'YearsInCurrentRole',\n",
    "       'YearsSinceLastPromotion', 'YearsWithCurrManager',\n",
    "       'BusinessTravel_Non-Travel', 'BusinessTravel_Travel_Frequently',\n",
    "       'BusinessTravel_Travel_Rarely', 'Department_Human Resources',\n",
    "       'Department_Research & Development', 'Department_Sales',\n",
    "       'EducationField_Human Resources', 'EducationField_Life Sciences',\n",
    "       'EducationField_Marketing', 'EducationField_Medical',\n",
    "       'EducationField_Other', 'EducationField_Technical Degree',\n",
    "       'Gender_Female', 'Gender_Male', 'JobRole_Healthcare Representative',\n",
    "       'JobRole_Human Resources', 'JobRole_Laboratory Technician',\n",
    "       'JobRole_Manager', 'JobRole_Manufacturing Director',\n",
    "       'JobRole_Research Director', 'JobRole_Research Scientist',\n",
    "       'JobRole_Sales Executive', 'JobRole_Sales Representative',\n",
    "       'MaritalStatus_Divorced', 'MaritalStatus_Married',\n",
    "       'MaritalStatus_Single', 'OverTime_No', 'OverTime_Yes']].astype('int64')\n",
    "y_train = train[['Attrition']].astype('int64')\n",
    "X_dev = dev[['Age', 'DailyRate', 'DistanceFromHome', 'Education',\n",
    "       'EnvironmentSatisfaction', 'HourlyRate', 'JobInvolvement', 'JobLevel',\n",
    "       'JobSatisfaction', 'MonthlyIncome', 'MonthlyRate', 'NumCompaniesWorked',\n",
    "       'PercentSalaryHike', 'PerformanceRating', 'RelationshipSatisfaction',\n",
    "       'StockOptionLevel', 'TotalWorkingYears', 'TrainingTimesLastYear',\n",
    "       'WorkLifeBalance', 'YearsAtCompany', 'YearsInCurrentRole',\n",
    "       'YearsSinceLastPromotion', 'YearsWithCurrManager',\n",
    "       'BusinessTravel_Non-Travel', 'BusinessTravel_Travel_Frequently',\n",
    "       'BusinessTravel_Travel_Rarely', 'Department_Human Resources',\n",
    "       'Department_Research & Development', 'Department_Sales',\n",
    "       'EducationField_Human Resources', 'EducationField_Life Sciences',\n",
    "       'EducationField_Marketing', 'EducationField_Medical',\n",
    "       'EducationField_Other', 'EducationField_Technical Degree',\n",
    "       'Gender_Female', 'Gender_Male', 'JobRole_Healthcare Representative',\n",
    "       'JobRole_Human Resources', 'JobRole_Laboratory Technician',\n",
    "       'JobRole_Manager', 'JobRole_Manufacturing Director',\n",
    "       'JobRole_Research Director', 'JobRole_Research Scientist',\n",
    "       'JobRole_Sales Executive', 'JobRole_Sales Representative',\n",
    "       'MaritalStatus_Divorced', 'MaritalStatus_Married',\n",
    "       'MaritalStatus_Single', 'OverTime_No', 'OverTime_Yes']].astype('int64')\n",
    "y_dev = dev[['Attrition']].astype('int64')\n",
    "X_test = test[['Age', 'DailyRate', 'DistanceFromHome', 'Education',\n",
    "       'EnvironmentSatisfaction', 'HourlyRate', 'JobInvolvement', 'JobLevel',\n",
    "       'JobSatisfaction', 'MonthlyIncome', 'MonthlyRate', 'NumCompaniesWorked',\n",
    "       'PercentSalaryHike', 'PerformanceRating', 'RelationshipSatisfaction',\n",
    "       'StockOptionLevel', 'TotalWorkingYears', 'TrainingTimesLastYear',\n",
    "       'WorkLifeBalance', 'YearsAtCompany', 'YearsInCurrentRole',\n",
    "       'YearsSinceLastPromotion', 'YearsWithCurrManager',\n",
    "       'BusinessTravel_Non-Travel', 'BusinessTravel_Travel_Frequently',\n",
    "       'BusinessTravel_Travel_Rarely', 'Department_Human Resources',\n",
    "       'Department_Research & Development', 'Department_Sales',\n",
    "       'EducationField_Human Resources', 'EducationField_Life Sciences',\n",
    "       'EducationField_Marketing', 'EducationField_Medical',\n",
    "       'EducationField_Other', 'EducationField_Technical Degree',\n",
    "       'Gender_Female', 'Gender_Male', 'JobRole_Healthcare Representative',\n",
    "       'JobRole_Human Resources', 'JobRole_Laboratory Technician',\n",
    "       'JobRole_Manager', 'JobRole_Manufacturing Director',\n",
    "       'JobRole_Research Director', 'JobRole_Research Scientist',\n",
    "       'JobRole_Sales Executive', 'JobRole_Sales Representative',\n",
    "       'MaritalStatus_Divorced', 'MaritalStatus_Married',\n",
    "       'MaritalStatus_Single', 'OverTime_No', 'OverTime_Yes']].astype('int64')\n",
    "y_test = test[['Attrition']].astype('int64')"
   ]
  },
  {
   "cell_type": "markdown",
   "id": "62b6b47c",
   "metadata": {},
   "source": [
    "4. Use Keras preprocessing layers to integrate categorical and numerical features into your model.\n"
   ]
  },
  {
   "cell_type": "code",
   "execution_count": 111,
   "id": "b5bb5a14",
   "metadata": {},
   "outputs": [],
   "source": [
    "tf.keras.backend.clear_session()\n",
    "#This is for model clearing if you run the sequential for a lot of times"
   ]
  },
  {
   "cell_type": "code",
   "execution_count": 112,
   "id": "f7e13e01",
   "metadata": {},
   "outputs": [],
   "source": [
    "# Build baseline model with Sequential API\n",
    "\n",
    "baseline_model = keras.Sequential()\n",
    "baseline_model.add(keras.layers.Flatten(input_shape=(51,)))\n",
    "baseline_model.add(keras.layers.Dense(units=16, activation='relu', name='baseline_dense_1'))\n",
    "baseline_model.add(keras.layers.Dense(1, activation='sigmoid'))"
   ]
  },
  {
   "cell_type": "code",
   "execution_count": 113,
   "id": "491ed9ce",
   "metadata": {},
   "outputs": [
    {
     "name": "stdout",
     "output_type": "stream",
     "text": [
      "Model: \"sequential\"\n",
      "_________________________________________________________________\n",
      " Layer (type)                Output Shape              Param #   \n",
      "=================================================================\n",
      " flatten (Flatten)           (None, 51)                0         \n",
      "                                                                 \n",
      " baseline_dense_1 (Dense)    (None, 16)                832       \n",
      "                                                                 \n",
      " dense (Dense)               (None, 1)                 17        \n",
      "                                                                 \n",
      "=================================================================\n",
      "Total params: 849\n",
      "Trainable params: 849\n",
      "Non-trainable params: 0\n",
      "_________________________________________________________________\n"
     ]
    }
   ],
   "source": [
    "baseline_model.summary()"
   ]
  },
  {
   "cell_type": "code",
   "execution_count": 114,
   "id": "6e6553fb",
   "metadata": {},
   "outputs": [],
   "source": [
    "# After the model is created, we must call its compile() method to specify the loss function and the optimizer to use. \n",
    "# Optionally, you can also specify a list of extra metrics to compute during training and evaluation:\n",
    "baseline_model.compile(optimizer=keras.optimizers.Adam(learning_rate=0.002),\n",
    "              loss='binary_crossentropy',\n",
    "              metrics=['AUC','accuracy'])"
   ]
  },
  {
   "cell_type": "code",
   "execution_count": 115,
   "id": "3ce2b63d",
   "metadata": {},
   "outputs": [
    {
     "name": "stdout",
     "output_type": "stream",
     "text": [
      "Epoch 1/40\n",
      "42/42 - 1s - loss: 380.0139 - auc: 0.4972 - accuracy: 0.8650 - val_loss: 52.0290 - val_auc: 0.5277 - val_accuracy: 0.5858 - 891ms/epoch - 21ms/step\n",
      "Epoch 2/40\n",
      "42/42 - 0s - loss: 41.6273 - auc: 0.5413 - accuracy: 0.7494 - val_loss: 19.9374 - val_auc: 0.5433 - val_accuracy: 0.7988 - 50ms/epoch - 1ms/step\n",
      "Epoch 3/40\n",
      "42/42 - 0s - loss: 21.5987 - auc: 0.5331 - accuracy: 0.7539 - val_loss: 7.8781 - val_auc: 0.5426 - val_accuracy: 0.8817 - 52ms/epoch - 1ms/step\n",
      "Epoch 4/40\n",
      "42/42 - 0s - loss: 10.7549 - auc: 0.5098 - accuracy: 0.7823 - val_loss: 7.9703 - val_auc: 0.4967 - val_accuracy: 0.8817 - 49ms/epoch - 1ms/step\n",
      "Epoch 5/40\n",
      "42/42 - 0s - loss: 7.1488 - auc: 0.5490 - accuracy: 0.8173 - val_loss: 8.5643 - val_auc: 0.4970 - val_accuracy: 0.2071 - 50ms/epoch - 1ms/step\n",
      "Epoch 6/40\n",
      "42/42 - 0s - loss: 6.4406 - auc: 0.4964 - accuracy: 0.7770 - val_loss: 3.4480 - val_auc: 0.4967 - val_accuracy: 0.8817 - 49ms/epoch - 1ms/step\n",
      "Epoch 7/40\n",
      "42/42 - 0s - loss: 5.1104 - auc: 0.5188 - accuracy: 0.7852 - val_loss: 10.4340 - val_auc: 0.4967 - val_accuracy: 0.8817 - 50ms/epoch - 1ms/step\n",
      "Epoch 8/40\n",
      "42/42 - 0s - loss: 9.2770 - auc: 0.4695 - accuracy: 0.7890 - val_loss: 5.0354 - val_auc: 0.4967 - val_accuracy: 0.8817 - 51ms/epoch - 1ms/step\n",
      "Epoch 9/40\n",
      "42/42 - 0s - loss: 4.5290 - auc: 0.5481 - accuracy: 0.7912 - val_loss: 3.8291 - val_auc: 0.4967 - val_accuracy: 0.8817 - 50ms/epoch - 1ms/step\n",
      "Epoch 10/40\n",
      "42/42 - 0s - loss: 7.6918 - auc: 0.5067 - accuracy: 0.7890 - val_loss: 7.8230 - val_auc: 0.4967 - val_accuracy: 0.8817 - 51ms/epoch - 1ms/step\n",
      "Epoch 11/40\n",
      "42/42 - 0s - loss: 5.9129 - auc: 0.5063 - accuracy: 0.7890 - val_loss: 1.3965 - val_auc: 0.6435 - val_accuracy: 0.8817 - 50ms/epoch - 1ms/step\n",
      "Epoch 12/40\n",
      "42/42 - 0s - loss: 3.5276 - auc: 0.5407 - accuracy: 0.8009 - val_loss: 4.3007 - val_auc: 0.4967 - val_accuracy: 0.8817 - 51ms/epoch - 1ms/step\n",
      "Epoch 13/40\n",
      "42/42 - 0s - loss: 3.6182 - auc: 0.4999 - accuracy: 0.7964 - val_loss: 1.5937 - val_auc: 0.6291 - val_accuracy: 0.7515 - 51ms/epoch - 1ms/step\n",
      "Epoch 14/40\n",
      "42/42 - 0s - loss: 2.1140 - auc: 0.5866 - accuracy: 0.8151 - val_loss: 3.4122 - val_auc: 0.4967 - val_accuracy: 0.8817 - 49ms/epoch - 1ms/step\n",
      "Epoch 15/40\n",
      "42/42 - 0s - loss: 7.0119 - auc: 0.5044 - accuracy: 0.8001 - val_loss: 7.4852 - val_auc: 0.4967 - val_accuracy: 0.8817 - 50ms/epoch - 1ms/step\n",
      "Epoch 16/40\n",
      "42/42 - 0s - loss: 4.3754 - auc: 0.5596 - accuracy: 0.8098 - val_loss: 4.0106 - val_auc: 0.4967 - val_accuracy: 0.8817 - 49ms/epoch - 1ms/step\n"
     ]
    },
    {
     "data": {
      "text/plain": [
       "<keras.callbacks.History at 0x1e1fa73db20>"
      ]
     },
     "execution_count": 115,
     "metadata": {},
     "output_type": "execute_result"
    }
   ],
   "source": [
    "# Number of epochs\n",
    "NUM_EPOCHS = 40\n",
    "\n",
    "# Early stopping set after 5 epochs\n",
    "stop_early = tf.keras.callbacks.EarlyStopping(monitor='val_loss', patience=5)\n",
    "\n",
    "# Train model\n",
    "baseline_model.fit(X_train, y_train, epochs=NUM_EPOCHS, validation_data=(X_dev, y_dev), callbacks=[stop_early], verbose=2)"
   ]
  },
  {
   "cell_type": "markdown",
   "id": "e5e2528f",
   "metadata": {},
   "source": [
    "5. Build an initial DL model - Use the Keras Sequential API with Dense modules\n",
    "6. Perform hyperparameter tuning. Consider adding regularization, output bias for imbalance data, model weights."
   ]
  },
  {
   "cell_type": "code",
   "execution_count": 116,
   "id": "3f15e2d6",
   "metadata": {},
   "outputs": [],
   "source": [
    "#we want to see how our model performs against the test set. We'll define a helper function to easily display the results.\n",
    "def evaluate_model(model, X_test, y_test):\n",
    "    \"\"\"\n",
    "    evaluate model on test set and show results in dataframe.\n",
    "    \n",
    "    Parameters\n",
    "    ----------\n",
    "    model : keras model\n",
    "        trained keras model.\n",
    "    X_test : numpy array\n",
    "        Features of holdout set.\n",
    "    y_test : numpy array\n",
    "        Labels of holdout set.\n",
    "        \n",
    "    Returns\n",
    "    -------\n",
    "    display_df : DataFrame\n",
    "        Pandas dataframe containing evaluation results.\n",
    "    \"\"\"\n",
    "    eval_dict = model.evaluate(X_test, y_test, return_dict=True)\n",
    "    \n",
    "    display_df = pd.DataFrame([eval_dict.values()], columns=[list(eval_dict.keys())])\n",
    "    \n",
    "    return display_df\n"
   ]
  },
  {
   "cell_type": "code",
   "execution_count": 117,
   "id": "c3048b50",
   "metadata": {},
   "outputs": [
    {
     "name": "stdout",
     "output_type": "stream",
     "text": [
      "6/6 [==============================] - 0s 2ms/step - loss: 3.1879 - auc: 0.4967 - accuracy: 0.8982\n"
     ]
    },
    {
     "data": {
      "text/html": [
       "<div>\n",
       "<style scoped>\n",
       "    .dataframe tbody tr th:only-of-type {\n",
       "        vertical-align: middle;\n",
       "    }\n",
       "\n",
       "    .dataframe tbody tr th {\n",
       "        vertical-align: top;\n",
       "    }\n",
       "\n",
       "    .dataframe thead tr th {\n",
       "        text-align: left;\n",
       "    }\n",
       "</style>\n",
       "<table border=\"1\" class=\"dataframe\">\n",
       "  <thead>\n",
       "    <tr>\n",
       "      <th></th>\n",
       "      <th>loss</th>\n",
       "      <th>auc</th>\n",
       "      <th>accuracy</th>\n",
       "    </tr>\n",
       "  </thead>\n",
       "  <tbody>\n",
       "    <tr>\n",
       "      <th>Baseline</th>\n",
       "      <td>3.187916</td>\n",
       "      <td>0.496689</td>\n",
       "      <td>0.898204</td>\n",
       "    </tr>\n",
       "  </tbody>\n",
       "</table>\n",
       "</div>"
      ],
      "text/plain": [
       "              loss       auc  accuracy\n",
       "Baseline  3.187916  0.496689  0.898204"
      ]
     },
     "execution_count": 117,
     "metadata": {},
     "output_type": "execute_result"
    }
   ],
   "source": [
    "#evaluation for the baseline model\n",
    "results = evaluate_model(baseline_model, X_test, y_test)\n",
    "results.index = ['Baseline']\n",
    "results.head()"
   ]
  },
  {
   "cell_type": "code",
   "execution_count": 118,
   "id": "3c203888",
   "metadata": {},
   "outputs": [],
   "source": [
    "#HYPERTUNING\n",
    "#There's the results for a single set of hyperparameters. Imagine trying out different learning rates, dropout percentages, \n",
    "#number of hidden layers, and number of neurons in each hidden layer. \n",
    "#As you can see, manual hypertuning is simply not feasible nor scalable. \n",
    "#We are going to use Keras Tuner to solve these problems simply by \n",
    "#automating the process and searching the hyperparameter space in an efficient way."
   ]
  },
  {
   "cell_type": "code",
   "execution_count": 119,
   "id": "8fa13b9d",
   "metadata": {},
   "outputs": [],
   "source": [
    "#Keras Tuner is a simple, distributable hyperparameter optimization framework that automates the painful process of manually searching for optimal hyperparameters. \n",
    "#Keras Tuner comes with Random Search, Hyperband, and Bayesian Optimization built-in search algorithms, and is designed to fit many use cases including:\n",
    "\n",
    "#Distributed tuning\n",
    "#Custom training loops (e.g., GANs, reinforcement learning, etc.)\n",
    "#Adding hyperparameters outside of the model building function (preprocessing, data augmentation, test time augmentation, etc.)\n",
    "#These processes are outside the scope of this write-up, but feel free to read more in the official documentation. There are four steps to hypertune our shallow DNN using Keras Tuner:\n",
    "\n",
    "#Define the model\n",
    "#Specify which hyperparameters to tune\n",
    "#Define the search space\n",
    "#Define the search algorithm\n",
    "\n",
    "#Specify Which Hyperparameters to Tune\n",
    "#The model we'll be building is very similar to the shallow DNN we trained earlier, except we'll be tuning four of the model's hyperparameters:\n",
    "\n",
    "#1. The number of hidden layers\n",
    "#2. The number of units in each hidden layer\n",
    "#3. The dropout percentage after each hidden layer\n",
    "#4. The learning rate of the Adam optimizer\n",
    "\n",
    "#Define the Search Space\n",
    "#This is done by passing a HyperParameters object as a parameter to the model building function that configures the hyperparameters you'd like to tune. In our function we will use:\n",
    "\n",
    "#hp.Int() to define the search space for the number of hidden layers and units in each hidden layer. This allows you to define minimum and maximum values, as well as a step size to increment by.\n",
    "#hp.Float() to define the search space for the dropout percentage. This is similar to hp.Int() except it takes floating values.\n",
    "#hp.Choice() to define the search space of the learning rate. This allows you to define discrete values.\n",
    "def build_model(hp):\n",
    "    \"\"\"\n",
    "    Builds model and sets up hyperparameter space to search.\n",
    "    \n",
    "    Parameters\n",
    "    ----------\n",
    "    hp : HyperParameter object\n",
    "        Configures hyperparameters to tune.\n",
    "        \n",
    "    Returns\n",
    "    -------\n",
    "    model : keras model\n",
    "        Compiled model with hyperparameters to tune.\n",
    "    \"\"\"\n",
    "    # Initialize sequential API and start building model.\n",
    "    model = keras.Sequential()\n",
    "    model.add(keras.layers.Flatten(input_shape=(51,)))\n",
    "    \n",
    "    # Tune the number of hidden layers and units in each.\n",
    "    # Number of hidden layers: 1 - 4\n",
    "    # Number of Units: 4 - 32 with stepsize of 4\n",
    "    for i in range(1, hp.Int(\"num_layers\", 2, 4)):\n",
    "        model.add(\n",
    "            keras.layers.Dense(\n",
    "                units=hp.Int(\"units_\" + str(i), min_value=4, max_value=16, step=4),\n",
    "                activation=\"relu\")\n",
    "            )\n",
    "        \n",
    "        # Tune dropout layer with values from 0.1 - 0.3.\n",
    "        model.add(keras.layers.Dropout(hp.Float(\"dropout_\" + str(i), 0.1, 0.3, step=0.05)))\n",
    "    \n",
    "    # Add output layer.\n",
    "    model.add(keras.layers.Dense(units=1, activation=\"sigmoid\"))\n",
    "    \n",
    "    # Tune learning rate for Adam optimizer with values from 0.01, 0.001, or 0.0001\n",
    "    hp_learning_rate = hp.Choice(\"learning_rate\", values=[1e-2, 1e-3, 1e-4])\n",
    "    \n",
    "    model.compile(optimizer=keras.optimizers.Adam(learning_rate=hp_learning_rate),\n",
    "                  loss='binary_crossentropy',\n",
    "                  metrics=[\"AUC\", \"accuracy\"])\n",
    "    \n",
    "    return model"
   ]
  },
  {
   "cell_type": "code",
   "execution_count": 120,
   "id": "e9eec112",
   "metadata": {},
   "outputs": [],
   "source": [
    "import keras_tuner\n",
    "# Instantiate the tuner\n",
    "tuner = kt.Hyperband(build_model,\n",
    "                     objective=keras_tuner.Objective(\"auc\", \"max\"),\n",
    "                     max_epochs=10,\n",
    "                     factor=3,\n",
    "                     hyperband_iterations=1,\n",
    "                     directory=\"kt_dir\",\n",
    "                     project_name=\"kt_hyperband\",\n",
    "                     overwrite=True)\n"
   ]
  },
  {
   "cell_type": "code",
   "execution_count": 121,
   "id": "82ba493d",
   "metadata": {},
   "outputs": [
    {
     "name": "stdout",
     "output_type": "stream",
     "text": [
      "Search space summary\n",
      "Default search space size: 4\n",
      "num_layers (Int)\n",
      "{'default': None, 'conditions': [], 'min_value': 2, 'max_value': 4, 'step': 1, 'sampling': 'linear'}\n",
      "units_1 (Int)\n",
      "{'default': None, 'conditions': [], 'min_value': 4, 'max_value': 16, 'step': 4, 'sampling': 'linear'}\n",
      "dropout_1 (Float)\n",
      "{'default': 0.1, 'conditions': [], 'min_value': 0.1, 'max_value': 0.3, 'step': 0.05, 'sampling': 'linear'}\n",
      "learning_rate (Choice)\n",
      "{'default': 0.01, 'conditions': [], 'values': [0.01, 0.001, 0.0001], 'ordered': True}\n"
     ]
    }
   ],
   "source": [
    "# Display search space summary\n",
    "tuner.search_space_summary()"
   ]
  },
  {
   "cell_type": "code",
   "execution_count": 122,
   "id": "7b5bc3dc",
   "metadata": {
    "scrolled": true
   },
   "outputs": [
    {
     "name": "stdout",
     "output_type": "stream",
     "text": [
      "INFO:tensorflow:Oracle triggered exit\n"
     ]
    }
   ],
   "source": [
    "stop_early = tf.keras.callbacks.EarlyStopping(monitor='val_loss', patience=10)\n",
    "\n",
    "tuner.search(X_train, y_train, epochs=NUM_EPOCHS, validation_data=(X_dev, y_dev), callbacks=[stop_early], verbose=0)"
   ]
  },
  {
   "cell_type": "code",
   "execution_count": 123,
   "id": "64e6fd13",
   "metadata": {},
   "outputs": [
    {
     "name": "stdout",
     "output_type": "stream",
     "text": [
      "Model: \"sequential_1\"\n",
      "_________________________________________________________________\n",
      " Layer (type)                Output Shape              Param #   \n",
      "=================================================================\n",
      " flatten_1 (Flatten)         (None, 51)                0         \n",
      "                                                                 \n",
      " dense_3 (Dense)             (None, 16)                832       \n",
      "                                                                 \n",
      " dropout_2 (Dropout)         (None, 16)                0         \n",
      "                                                                 \n",
      " dense_4 (Dense)             (None, 4)                 68        \n",
      "                                                                 \n",
      " dropout_3 (Dropout)         (None, 4)                 0         \n",
      "                                                                 \n",
      " dense_5 (Dense)             (None, 8)                 40        \n",
      "                                                                 \n",
      " dropout_4 (Dropout)         (None, 8)                 0         \n",
      "                                                                 \n",
      " dense_6 (Dense)             (None, 1)                 9         \n",
      "                                                                 \n",
      "=================================================================\n",
      "Total params: 949\n",
      "Trainable params: 949\n",
      "Non-trainable params: 0\n",
      "_________________________________________________________________\n"
     ]
    }
   ],
   "source": [
    "# Get the optimal hyperparameters from the results\n",
    "best_hps=tuner.get_best_hyperparameters()[0]\n",
    "hp_model = tuner.hypermodel.build(best_hps)\n",
    "hp_model.summary()"
   ]
  },
  {
   "cell_type": "code",
   "execution_count": 124,
   "id": "3194e9bd",
   "metadata": {},
   "outputs": [
    {
     "name": "stdout",
     "output_type": "stream",
     "text": [
      "Epoch 1/40\n",
      "42/42 - 1s - loss: 285.8535 - auc: 0.4896 - accuracy: 0.6204 - val_loss: 123.3135 - val_auc: 0.4867 - val_accuracy: 0.8639 - 787ms/epoch - 19ms/step\n",
      "Epoch 2/40\n",
      "42/42 - 0s - loss: 169.8626 - auc: 0.4808 - accuracy: 0.7711 - val_loss: 99.5877 - val_auc: 0.4933 - val_accuracy: 0.8757 - 55ms/epoch - 1ms/step\n",
      "Epoch 3/40\n",
      "42/42 - 0s - loss: 108.6689 - auc: 0.5158 - accuracy: 0.8113 - val_loss: 70.4969 - val_auc: 0.4933 - val_accuracy: 0.8757 - 56ms/epoch - 1ms/step\n",
      "Epoch 4/40\n",
      "42/42 - 0s - loss: 84.5009 - auc: 0.5025 - accuracy: 0.8016 - val_loss: 49.4115 - val_auc: 0.4933 - val_accuracy: 0.8757 - 55ms/epoch - 1ms/step\n",
      "Epoch 5/40\n",
      "42/42 - 0s - loss: 54.8265 - auc: 0.5193 - accuracy: 0.8166 - val_loss: 35.2483 - val_auc: 0.5000 - val_accuracy: 0.8876 - 60ms/epoch - 1ms/step\n",
      "Epoch 6/40\n",
      "42/42 - 0s - loss: 40.3852 - auc: 0.5039 - accuracy: 0.8128 - val_loss: 25.0111 - val_auc: 0.4967 - val_accuracy: 0.8817 - 62ms/epoch - 1ms/step\n",
      "Epoch 7/40\n",
      "42/42 - 0s - loss: 27.5456 - auc: 0.5163 - accuracy: 0.8307 - val_loss: 17.8729 - val_auc: 0.5198 - val_accuracy: 0.8876 - 64ms/epoch - 2ms/step\n",
      "Epoch 8/40\n",
      "42/42 - 0s - loss: 22.7815 - auc: 0.4751 - accuracy: 0.8300 - val_loss: 11.7103 - val_auc: 0.5396 - val_accuracy: 0.8817 - 53ms/epoch - 1ms/step\n",
      "Epoch 9/40\n",
      "42/42 - 0s - loss: 14.6147 - auc: 0.5292 - accuracy: 0.8195 - val_loss: 6.8739 - val_auc: 0.5463 - val_accuracy: 0.8876 - 55ms/epoch - 1ms/step\n",
      "Epoch 10/40\n",
      "42/42 - 0s - loss: 10.9513 - auc: 0.5206 - accuracy: 0.8121 - val_loss: 4.3985 - val_auc: 0.5630 - val_accuracy: 0.8876 - 56ms/epoch - 1ms/step\n",
      "Epoch 11/40\n",
      "42/42 - 0s - loss: 8.6679 - auc: 0.5144 - accuracy: 0.8091 - val_loss: 2.8387 - val_auc: 0.5856 - val_accuracy: 0.8935 - 55ms/epoch - 1ms/step\n",
      "Epoch 12/40\n",
      "42/42 - 0s - loss: 7.4122 - auc: 0.4913 - accuracy: 0.8128 - val_loss: 2.0931 - val_auc: 0.5818 - val_accuracy: 0.8876 - 53ms/epoch - 1ms/step\n",
      "Epoch 13/40\n",
      "42/42 - 0s - loss: 4.8501 - auc: 0.5116 - accuracy: 0.8225 - val_loss: 1.8226 - val_auc: 0.5681 - val_accuracy: 0.8817 - 57ms/epoch - 1ms/step\n",
      "Epoch 14/40\n",
      "42/42 - 0s - loss: 3.8233 - auc: 0.5230 - accuracy: 0.8412 - val_loss: 1.2746 - val_auc: 0.5419 - val_accuracy: 0.8817 - 55ms/epoch - 1ms/step\n",
      "Epoch 15/40\n",
      "42/42 - 0s - loss: 3.2090 - auc: 0.5777 - accuracy: 0.8255 - val_loss: 0.7857 - val_auc: 0.6302 - val_accuracy: 0.8817 - 54ms/epoch - 1ms/step\n",
      "Epoch 16/40\n",
      "42/42 - 0s - loss: 2.0633 - auc: 0.6078 - accuracy: 0.8397 - val_loss: 0.6668 - val_auc: 0.6393 - val_accuracy: 0.8817 - 54ms/epoch - 1ms/step\n",
      "Epoch 17/40\n",
      "42/42 - 0s - loss: 2.6026 - auc: 0.5848 - accuracy: 0.8389 - val_loss: 0.5686 - val_auc: 0.6561 - val_accuracy: 0.8817 - 54ms/epoch - 1ms/step\n",
      "Epoch 18/40\n",
      "42/42 - 0s - loss: 1.5109 - auc: 0.5694 - accuracy: 0.8516 - val_loss: 0.5355 - val_auc: 0.6430 - val_accuracy: 0.8876 - 57ms/epoch - 1ms/step\n",
      "Epoch 19/40\n",
      "42/42 - 0s - loss: 1.5538 - auc: 0.5627 - accuracy: 0.8456 - val_loss: 0.5301 - val_auc: 0.6298 - val_accuracy: 0.8876 - 61ms/epoch - 1ms/step\n",
      "Epoch 20/40\n",
      "42/42 - 0s - loss: 1.4639 - auc: 0.5666 - accuracy: 0.8337 - val_loss: 0.4411 - val_auc: 0.6104 - val_accuracy: 0.8817 - 57ms/epoch - 1ms/step\n",
      "Epoch 21/40\n",
      "42/42 - 0s - loss: 1.4121 - auc: 0.5241 - accuracy: 0.8546 - val_loss: 0.4196 - val_auc: 0.6140 - val_accuracy: 0.8817 - 55ms/epoch - 1ms/step\n",
      "Epoch 22/40\n",
      "42/42 - 0s - loss: 1.2462 - auc: 0.5623 - accuracy: 0.8523 - val_loss: 0.4147 - val_auc: 0.5988 - val_accuracy: 0.8817 - 53ms/epoch - 1ms/step\n",
      "Epoch 23/40\n",
      "42/42 - 0s - loss: 1.4991 - auc: 0.5703 - accuracy: 0.8538 - val_loss: 0.4389 - val_auc: 0.5714 - val_accuracy: 0.8817 - 57ms/epoch - 1ms/step\n",
      "Epoch 24/40\n",
      "42/42 - 0s - loss: 1.1654 - auc: 0.5940 - accuracy: 0.8546 - val_loss: 0.4221 - val_auc: 0.5712 - val_accuracy: 0.8817 - 56ms/epoch - 1ms/step\n",
      "Epoch 25/40\n",
      "42/42 - 0s - loss: 0.8703 - auc: 0.5302 - accuracy: 0.8561 - val_loss: 0.3918 - val_auc: 0.5854 - val_accuracy: 0.8817 - 59ms/epoch - 1ms/step\n",
      "Epoch 26/40\n",
      "42/42 - 0s - loss: 0.9836 - auc: 0.5365 - accuracy: 0.8568 - val_loss: 0.3782 - val_auc: 0.5702 - val_accuracy: 0.8817 - 53ms/epoch - 1ms/step\n",
      "Epoch 27/40\n",
      "42/42 - 0s - loss: 0.7386 - auc: 0.5581 - accuracy: 0.8546 - val_loss: 0.3681 - val_auc: 0.5904 - val_accuracy: 0.8876 - 53ms/epoch - 1ms/step\n",
      "Epoch 28/40\n",
      "42/42 - 0s - loss: 0.7618 - auc: 0.5725 - accuracy: 0.8591 - val_loss: 0.3589 - val_auc: 0.5811 - val_accuracy: 0.8876 - 55ms/epoch - 1ms/step\n",
      "Epoch 29/40\n",
      "42/42 - 0s - loss: 0.7575 - auc: 0.5608 - accuracy: 0.8576 - val_loss: 0.3539 - val_auc: 0.6189 - val_accuracy: 0.8876 - 60ms/epoch - 1ms/step\n",
      "Epoch 30/40\n",
      "42/42 - 0s - loss: 0.7483 - auc: 0.5110 - accuracy: 0.8546 - val_loss: 0.3487 - val_auc: 0.6395 - val_accuracy: 0.8876 - 55ms/epoch - 1ms/step\n",
      "Epoch 31/40\n",
      "42/42 - 0s - loss: 0.8257 - auc: 0.5310 - accuracy: 0.8553 - val_loss: 0.3536 - val_auc: 0.6035 - val_accuracy: 0.8876 - 54ms/epoch - 1ms/step\n",
      "Epoch 32/40\n",
      "42/42 - 0s - loss: 0.7652 - auc: 0.5556 - accuracy: 0.8650 - val_loss: 0.3436 - val_auc: 0.6474 - val_accuracy: 0.8876 - 56ms/epoch - 1ms/step\n",
      "Epoch 33/40\n",
      "42/42 - 0s - loss: 0.6976 - auc: 0.5110 - accuracy: 0.8561 - val_loss: 0.3502 - val_auc: 0.6253 - val_accuracy: 0.8876 - 53ms/epoch - 1ms/step\n",
      "Epoch 34/40\n",
      "42/42 - 0s - loss: 0.5856 - auc: 0.5907 - accuracy: 0.8606 - val_loss: 0.3537 - val_auc: 0.6384 - val_accuracy: 0.8876 - 58ms/epoch - 1ms/step\n",
      "Epoch 35/40\n",
      "42/42 - 0s - loss: 0.6433 - auc: 0.5981 - accuracy: 0.8613 - val_loss: 0.3581 - val_auc: 0.6344 - val_accuracy: 0.8876 - 54ms/epoch - 1ms/step\n",
      "Epoch 36/40\n",
      "42/42 - 0s - loss: 0.5106 - auc: 0.6085 - accuracy: 0.8635 - val_loss: 0.3473 - val_auc: 0.6398 - val_accuracy: 0.8876 - 55ms/epoch - 1ms/step\n",
      "Epoch 37/40\n",
      "42/42 - 0s - loss: 0.6851 - auc: 0.5730 - accuracy: 0.8613 - val_loss: 0.3629 - val_auc: 0.6291 - val_accuracy: 0.8876 - 53ms/epoch - 1ms/step\n",
      "Epoch 38/40\n",
      "42/42 - 0s - loss: 0.6239 - auc: 0.5341 - accuracy: 0.8635 - val_loss: 0.3506 - val_auc: 0.6239 - val_accuracy: 0.8876 - 53ms/epoch - 1ms/step\n",
      "Epoch 39/40\n",
      "42/42 - 0s - loss: 0.5466 - auc: 0.5734 - accuracy: 0.8665 - val_loss: 0.3593 - val_auc: 0.6267 - val_accuracy: 0.8876 - 53ms/epoch - 1ms/step\n",
      "Epoch 40/40\n",
      "42/42 - 0s - loss: 0.5447 - auc: 0.5244 - accuracy: 0.8673 - val_loss: 0.3588 - val_auc: 0.6179 - val_accuracy: 0.8876 - 52ms/epoch - 1ms/step\n"
     ]
    },
    {
     "data": {
      "text/plain": [
       "<keras.callbacks.History at 0x1e1f4f4d220>"
      ]
     },
     "execution_count": 124,
     "metadata": {},
     "output_type": "execute_result"
    }
   ],
   "source": [
    "hp_model.fit(X_train, y_train, epochs=NUM_EPOCHS, validation_data=(X_dev, y_dev), callbacks=[stop_early], verbose=2)"
   ]
  },
  {
   "cell_type": "markdown",
   "id": "8fa484d3",
   "metadata": {},
   "source": [
    "7. Predictions on text set - Report the performance metrics (precision, recall, accuracy, AUC)."
   ]
  },
  {
   "cell_type": "code",
   "execution_count": 125,
   "id": "1409611f",
   "metadata": {},
   "outputs": [
    {
     "name": "stdout",
     "output_type": "stream",
     "text": [
      "6/6 [==============================] - 0s 2ms/step - loss: 0.3432 - auc: 0.5766 - accuracy: 0.9042\n"
     ]
    },
    {
     "data": {
      "text/html": [
       "<div>\n",
       "<style scoped>\n",
       "    .dataframe tbody tr th:only-of-type {\n",
       "        vertical-align: middle;\n",
       "    }\n",
       "\n",
       "    .dataframe tbody tr th {\n",
       "        vertical-align: top;\n",
       "    }\n",
       "\n",
       "    .dataframe thead tr th {\n",
       "        text-align: left;\n",
       "    }\n",
       "</style>\n",
       "<table border=\"1\" class=\"dataframe\">\n",
       "  <thead>\n",
       "    <tr>\n",
       "      <th></th>\n",
       "      <th>loss</th>\n",
       "      <th>auc</th>\n",
       "      <th>accuracy</th>\n",
       "    </tr>\n",
       "  </thead>\n",
       "  <tbody>\n",
       "    <tr>\n",
       "      <th>Baseline</th>\n",
       "      <td>0.34316</td>\n",
       "      <td>0.576573</td>\n",
       "      <td>0.904192</td>\n",
       "    </tr>\n",
       "  </tbody>\n",
       "</table>\n",
       "</div>"
      ],
      "text/plain": [
       "             loss       auc  accuracy\n",
       "Baseline  0.34316  0.576573  0.904192"
      ]
     },
     "execution_count": 125,
     "metadata": {},
     "output_type": "execute_result"
    }
   ],
   "source": [
    "#compared with the baseline model, the hypertuning model increase the accuracy from\n",
    "#Epoch 6/20\n",
    "#34/34 - 0s - loss: 180.8470 - accuracy: 0.8006 - val_loss: 151.1388 - val_accuracy: 0.8439 - 43ms/epoch - 1ms/step\n",
    "#to\n",
    "#Epoch 19/40\n",
    "#42/42 - 0s - loss: 0.3738 - auc: 0.4972 - accuracy: 0.8770 - val_loss: 0.3175 - val_auc: 0.5817 - val_accuracy: 0.9042 - 54ms/epoch - 1ms/step\n",
    "results = evaluate_model(hp_model, X_test, y_test)\n",
    "results.index = ['Baseline']\n",
    "results.head()\n"
   ]
  },
  {
   "cell_type": "code",
   "execution_count": 126,
   "id": "7c3c16fa",
   "metadata": {},
   "outputs": [
    {
     "name": "stdout",
     "output_type": "stream",
     "text": [
      "0.001\n",
      "4\n",
      "0.1\n",
      "0.1\n",
      "16\n",
      "4\n"
     ]
    }
   ],
   "source": [
    "#Show the best hyperparameters\n",
    "print(best_hps.get(\"learning_rate\"))\n",
    "print(best_hps.get(\"num_layers\"))\n",
    "print(best_hps.get(\"dropout_1\"))\n",
    "print(best_hps.get(\"dropout_2\"))\n",
    "print(best_hps.get(\"units_1\"))\n",
    "print(best_hps.get(\"units_2\"))"
   ]
  },
  {
   "cell_type": "code",
   "execution_count": 127,
   "id": "0f33cc90",
   "metadata": {},
   "outputs": [
    {
     "name": "stdout",
     "output_type": "stream",
     "text": [
      "You must install pydot (`pip install pydot`) and install graphviz (see instructions at https://graphviz.gitlab.io/download/) for plot_model to work.\n"
     ]
    }
   ],
   "source": [
    "# display model structure\n",
    "plot_model(hp_model, 'hp_model.png', show_shapes=True)\n"
   ]
  },
  {
   "cell_type": "code",
   "execution_count": 128,
   "id": "96719cfb",
   "metadata": {},
   "outputs": [
    {
     "name": "stdout",
     "output_type": "stream",
     "text": [
      "Epoch 1/40\n",
      "34/34 - 0s - loss: 0.4932 - auc: 0.5693 - accuracy: 0.8769 - val_loss: 0.4326 - val_auc: 0.6689 - val_accuracy: 0.8401 - 79ms/epoch - 2ms/step\n",
      "Epoch 2/40\n",
      "34/34 - 0s - loss: 0.6150 - auc: 0.5240 - accuracy: 0.8741 - val_loss: 0.4268 - val_auc: 0.6405 - val_accuracy: 0.8401 - 50ms/epoch - 1ms/step\n",
      "Epoch 3/40\n",
      "34/34 - 0s - loss: 0.4275 - auc: 0.5690 - accuracy: 0.8778 - val_loss: 0.4362 - val_auc: 0.6216 - val_accuracy: 0.8401 - 51ms/epoch - 1ms/step\n",
      "Epoch 4/40\n",
      "34/34 - 0s - loss: 0.5043 - auc: 0.5556 - accuracy: 0.8778 - val_loss: 0.4231 - val_auc: 0.6993 - val_accuracy: 0.8439 - 58ms/epoch - 2ms/step\n",
      "Epoch 5/40\n",
      "34/34 - 0s - loss: 0.5262 - auc: 0.6041 - accuracy: 0.8769 - val_loss: 0.4207 - val_auc: 0.6850 - val_accuracy: 0.8439 - 62ms/epoch - 2ms/step\n",
      "Epoch 6/40\n",
      "34/34 - 0s - loss: 0.4617 - auc: 0.5472 - accuracy: 0.8647 - val_loss: 0.4213 - val_auc: 0.6705 - val_accuracy: 0.8439 - 62ms/epoch - 2ms/step\n",
      "Epoch 7/40\n",
      "34/34 - 0s - loss: 0.4701 - auc: 0.5679 - accuracy: 0.8806 - val_loss: 0.4258 - val_auc: 0.6800 - val_accuracy: 0.8439 - 61ms/epoch - 2ms/step\n",
      "Epoch 8/40\n",
      "34/34 - 0s - loss: 0.4433 - auc: 0.5896 - accuracy: 0.8759 - val_loss: 0.4340 - val_auc: 0.6436 - val_accuracy: 0.8439 - 52ms/epoch - 2ms/step\n",
      "Epoch 9/40\n",
      "34/34 - 0s - loss: 0.4698 - auc: 0.5169 - accuracy: 0.8731 - val_loss: 0.4296 - val_auc: 0.6356 - val_accuracy: 0.8439 - 51ms/epoch - 2ms/step\n",
      "Epoch 10/40\n",
      "34/34 - 0s - loss: 0.4089 - auc: 0.5292 - accuracy: 0.8778 - val_loss: 0.4231 - val_auc: 0.6731 - val_accuracy: 0.8439 - 50ms/epoch - 1ms/step\n",
      "Epoch 11/40\n",
      "34/34 - 0s - loss: 0.4826 - auc: 0.5318 - accuracy: 0.8797 - val_loss: 0.4305 - val_auc: 0.6576 - val_accuracy: 0.8439 - 64ms/epoch - 2ms/step\n",
      "Epoch 12/40\n",
      "34/34 - 0s - loss: 0.4167 - auc: 0.4838 - accuracy: 0.8825 - val_loss: 0.4372 - val_auc: 0.6356 - val_accuracy: 0.8439 - 62ms/epoch - 2ms/step\n",
      "Epoch 13/40\n",
      "34/34 - 0s - loss: 0.4458 - auc: 0.5439 - accuracy: 0.8797 - val_loss: 0.4399 - val_auc: 0.6527 - val_accuracy: 0.8401 - 54ms/epoch - 2ms/step\n",
      "Epoch 14/40\n",
      "34/34 - 0s - loss: 0.4441 - auc: 0.5292 - accuracy: 0.8815 - val_loss: 0.4515 - val_auc: 0.6349 - val_accuracy: 0.8401 - 49ms/epoch - 1ms/step\n",
      "Epoch 15/40\n",
      "34/34 - 0s - loss: 0.4342 - auc: 0.4901 - accuracy: 0.8750 - val_loss: 0.4384 - val_auc: 0.6230 - val_accuracy: 0.8401 - 54ms/epoch - 2ms/step\n",
      "Epoch 1/40\n",
      "34/34 - 0s - loss: 5.6478 - auc: 0.5549 - accuracy: 0.8088 - val_loss: 23.5080 - val_auc: 0.5000 - val_accuracy: 0.8439 - 191ms/epoch - 6ms/step\n",
      "Epoch 2/40\n",
      "34/34 - 0s - loss: 7.9806 - auc: 0.4910 - accuracy: 0.8078 - val_loss: 1.5600 - val_auc: 0.5786 - val_accuracy: 0.8364 - 49ms/epoch - 1ms/step\n",
      "Epoch 3/40\n",
      "34/34 - 0s - loss: 3.8204 - auc: 0.5611 - accuracy: 0.8125 - val_loss: 3.6434 - val_auc: 0.4956 - val_accuracy: 0.8364 - 46ms/epoch - 1ms/step\n",
      "Epoch 4/40\n",
      "34/34 - 0s - loss: 4.7444 - auc: 0.5288 - accuracy: 0.8116 - val_loss: 3.7303 - val_auc: 0.5074 - val_accuracy: 0.8364 - 46ms/epoch - 1ms/step\n",
      "Epoch 5/40\n",
      "34/34 - 0s - loss: 3.1789 - auc: 0.4895 - accuracy: 0.8097 - val_loss: 2.1434 - val_auc: 0.6136 - val_accuracy: 0.8513 - 45ms/epoch - 1ms/step\n",
      "Epoch 6/40\n",
      "34/34 - 0s - loss: 4.2719 - auc: 0.5358 - accuracy: 0.8050 - val_loss: 1.0446 - val_auc: 0.7195 - val_accuracy: 0.8476 - 48ms/epoch - 1ms/step\n",
      "Epoch 7/40\n",
      "34/34 - 0s - loss: 3.4809 - auc: 0.5321 - accuracy: 0.8218 - val_loss: 12.9354 - val_auc: 0.5489 - val_accuracy: 0.1784 - 46ms/epoch - 1ms/step\n",
      "Epoch 8/40\n",
      "34/34 - 0s - loss: 6.3056 - auc: 0.4799 - accuracy: 0.7780 - val_loss: 9.6119 - val_auc: 0.4978 - val_accuracy: 0.8401 - 48ms/epoch - 1ms/step\n",
      "Epoch 9/40\n",
      "34/34 - 0s - loss: 5.8149 - auc: 0.5384 - accuracy: 0.8228 - val_loss: 4.7308 - val_auc: 0.5604 - val_accuracy: 0.8476 - 49ms/epoch - 1ms/step\n",
      "Epoch 10/40\n",
      "34/34 - 0s - loss: 2.4242 - auc: 0.5323 - accuracy: 0.8125 - val_loss: 1.4876 - val_auc: 0.5106 - val_accuracy: 0.7286 - 48ms/epoch - 1ms/step\n",
      "Epoch 11/40\n",
      "34/34 - 0s - loss: 5.1481 - auc: 0.5977 - accuracy: 0.8228 - val_loss: 2.1061 - val_auc: 0.7359 - val_accuracy: 0.5762 - 46ms/epoch - 1ms/step\n",
      "Epoch 12/40\n",
      "34/34 - 0s - loss: 2.5638 - auc: 0.5890 - accuracy: 0.8312 - val_loss: 3.6955 - val_auc: 0.7203 - val_accuracy: 0.4126 - 47ms/epoch - 1ms/step\n",
      "Epoch 13/40\n",
      "34/34 - 0s - loss: 5.8669 - auc: 0.5011 - accuracy: 0.7836 - val_loss: 10.7830 - val_auc: 0.4978 - val_accuracy: 0.8401 - 49ms/epoch - 1ms/step\n",
      "Epoch 14/40\n",
      "34/34 - 0s - loss: 6.4015 - auc: 0.5353 - accuracy: 0.8116 - val_loss: 7.4749 - val_auc: 0.4978 - val_accuracy: 0.8401 - 55ms/epoch - 2ms/step\n",
      "Epoch 15/40\n",
      "34/34 - 0s - loss: 2.5740 - auc: 0.5952 - accuracy: 0.8069 - val_loss: 5.8768 - val_auc: 0.4978 - val_accuracy: 0.8401 - 53ms/epoch - 2ms/step\n",
      "Epoch 16/40\n",
      "34/34 - 0s - loss: 6.0244 - auc: 0.5134 - accuracy: 0.8181 - val_loss: 7.5277 - val_auc: 0.4978 - val_accuracy: 0.8401 - 58ms/epoch - 2ms/step\n"
     ]
    }
   ],
   "source": [
    "history_best = hp_model.fit(X_train, y_train, epochs=NUM_EPOCHS, validation_split=0.2, callbacks=[stop_early], verbose=2)\n",
    "history_base = baseline_model.fit(X_train, y_train, epochs=NUM_EPOCHS, validation_split=0.2, callbacks=[stop_early], verbose=2)"
   ]
  },
  {
   "cell_type": "code",
   "execution_count": 129,
   "id": "35783620",
   "metadata": {},
   "outputs": [
    {
     "data": {
      "text/plain": [
       "<matplotlib.legend.Legend at 0x1e1f8541d90>"
      ]
     },
     "execution_count": 129,
     "metadata": {},
     "output_type": "execute_result"
    },
    {
     "data": {
      "image/png": "[encoded data removed]",
      "text/plain": [
       "<Figure size 640x480 with 1 Axes>"
      ]
     },
     "metadata": {},
     "output_type": "display_data"
    }
   ],
   "source": [
    "plt.plot(history_best.history['loss'], label='loss_for_best')\n",
    "plt.plot(history_base.history['loss'], label='loss_for_base')\n",
    "plt.ylim([0, 5])\n",
    "plt.xlabel('Epoch')\n",
    "plt.ylabel('Loss')\n",
    "plt.legend()"
   ]
  },
  {
   "cell_type": "code",
   "execution_count": 130,
   "id": "8dc6475a",
   "metadata": {},
   "outputs": [
    {
     "data": {
      "text/plain": [
       "<matplotlib.legend.Legend at 0x1e1f7ce0ee0>"
      ]
     },
     "execution_count": 130,
     "metadata": {},
     "output_type": "execute_result"
    },
    {
     "data": {
      "image/png": "[encoded data removed]",
      "text/plain": [
       "<Figure size 640x480 with 1 Axes>"
      ]
     },
     "metadata": {},
     "output_type": "display_data"
    }
   ],
   "source": [
    "plt.plot(history_best.history['accuracy'], label='accuracy_for_best')\n",
    "plt.plot(history_base.history['accuracy'], label='accuracy_for_base')\n",
    "plt.ylim([0.7, 1])\n",
    "plt.xlabel('Epoch')\n",
    "plt.ylabel('Accuracy')\n",
    "plt.legend()"
   ]
  },
  {
   "cell_type": "code",
   "execution_count": 131,
   "id": "0e1281af",
   "metadata": {},
   "outputs": [
    {
     "data": {
      "text/plain": [
       "<matplotlib.legend.Legend at 0x1e1f7345cd0>"
      ]
     },
     "execution_count": 131,
     "metadata": {},
     "output_type": "execute_result"
    },
    {
     "data": {
      "image/png": "[encoded data removed]",
      "text/plain": [
       "<Figure size 640x480 with 1 Axes>"
      ]
     },
     "metadata": {},
     "output_type": "display_data"
    }
   ],
   "source": [
    "plt.plot(history_best.history['auc'], label='auc_for_best')\n",
    "plt.plot(history_base.history['auc'], label='auc_for_base')\n",
    "plt.ylim([0, 1])\n",
    "plt.xlabel('Epoch')\n",
    "plt.ylabel('AUC')\n",
    "plt.legend()"
   ]
  },
  {
   "cell_type": "code",
   "execution_count": 139,
   "id": "b38256f2",
   "metadata": {
    "scrolled": true
   },
   "outputs": [
    {
     "name": "stdout",
     "output_type": "stream",
     "text": [
      "6/6 [==============================] - 0s 865us/step\n",
      "Accuracy: 0.904192\n",
      "Precision: 0.760845\n",
      "Recall: 0.844456\n",
      "F1 score: 0.654356\n"
     ]
    }
   ],
   "source": [
    "#precision and F1 score for model\n",
    "# accuracy: (tp + tn) / (p + n)\n",
    "y_predict = hp_model.predict(X_test)\n",
    "y_predict_discrete = (y_predict >= 0.5).astype(int)[:, 0]\n",
    "accuracy = accuracy_score(y_test, y_predict_discrete)\n",
    "print('Accuracy: %f' % accuracy)\n",
    "# precision tp / (tp + fp)\n",
    "precision = precision_score(y_test, y_predict_discrete)\n",
    "print('Precision: %f' % precision)\n",
    "# recall: tp / (tp + fn)\n",
    "recall = recall_score(y_test, y_predict_discrete)\n",
    "print('Recall: %f' % recall)\n",
    "# f1: 2 tp / (2 tp + fp + fn)\n",
    "f1 = f1_score(y_test, y_predict_discrete)\n",
    "print('F1 score: %f' % f1)"
   ]
  },
  {
   "cell_type": "code",
   "execution_count": 89,
   "id": "75c71894",
   "metadata": {},
   "outputs": [],
   "source": [
    "#That's not good!"
   ]
  },
  {
   "cell_type": "code",
   "execution_count": 406,
   "id": "62b5b379",
   "metadata": {},
   "outputs": [],
   "source": [
    "#let's doing the test for test group\n",
    "#First is for the data cleaning for test data\n",
    "predict_data = pd.read_csv(\"C:/Users/guoyy/OneDrive/Desktop/ADEC 7630 Algorithm Intelligence/Final/predict.csv\")\n",
    "#Do the same data clearing process\n",
    "predict_data = predict_data.drop(['EmployeeCount', 'Over18', 'StandardHours','id'], axis=1)\n",
    "#DATA CLASSIFICATION\n",
    "#integer data:'id', 'Age',  'DailyRate', 'DistanceFromHome',  'HourlyRate',  'MonthlyIncome', 'MonthlyRate', 'NumCompaniesWorked', 'PercentSalaryHike',  'TotalWorkingYears', 'TrainingTimesLastYear', 'YearsAtCompany', 'YearsInCurrentRole', 'YearsSinceLastPromotion', 'YearsWithCurrManager', 'Attrition'\n",
    "#categorical integer data:'Education' , 'EnvironmentSatisfaction', 'JobInvolvement', 'JobLevel','JobSatisfaction', 'PerformanceRating', 'RelationshipSatisfaction', 'StockOptionLevel','WorkLifeBalance'\n",
    "#Dummies:'BusinessTravel', 'Department', 'EducationField', 'Gender', 'JobRole', 'MaritalStatus'\n",
    "predict_data = pd.get_dummies(predict_data, columns=['BusinessTravel', 'Department', 'EducationField', 'Gender', 'JobRole', 'MaritalStatus', 'OverTime'])\n",
    "#Here is the processing for the categorical integer data\n",
    "predict_data['Age'] = predict_data['Age'].astype('int64')\n",
    "predict_data['Education'] = predict_data['Education'].astype('category')\n",
    "predict_data['EnvironmentSatisfaction'] = train_data['EnvironmentSatisfaction'].astype('category')\n",
    "predict_data['JobInvolvement'] = predict_data['JobInvolvement'].astype('category')\n",
    "predict_data['JobLevel'] = predict_data['JobLevel'].astype('category')\n",
    "predict_data['JobSatisfaction'] = predict_data['JobSatisfaction'].astype('category')\n",
    "predict_data['PerformanceRating'] = predict_data['PerformanceRating'].astype('category')\n",
    "predict_data['RelationshipSatisfaction'] = predict_data['RelationshipSatisfaction'].astype('category')\n",
    "predict_data['StockOptionLevel'] = predict_data['StockOptionLevel'].astype('category')\n",
    "predict_data['WorkLifeBalance'] = predict_data['WorkLifeBalance'].astype('category')\n",
    "#import for the cleaned data\n",
    "predict_data.to_csv('cleaned_predict_data.csv', index=False)"
   ]
  },
  {
   "cell_type": "code",
   "execution_count": 407,
   "id": "77790b5a",
   "metadata": {},
   "outputs": [],
   "source": [
    "#use model to calculate the accuracy\n",
    "X_predict = predict_data[['Age', 'DailyRate', 'DistanceFromHome', 'Education',\n",
    "       'EnvironmentSatisfaction', 'HourlyRate', 'JobInvolvement', 'JobLevel',\n",
    "       'JobSatisfaction', 'MonthlyIncome', 'MonthlyRate', 'NumCompaniesWorked',\n",
    "       'PercentSalaryHike', 'PerformanceRating', 'RelationshipSatisfaction',\n",
    "       'StockOptionLevel', 'TotalWorkingYears', 'TrainingTimesLastYear',\n",
    "       'WorkLifeBalance', 'YearsAtCompany', 'YearsInCurrentRole',\n",
    "       'YearsSinceLastPromotion', 'YearsWithCurrManager',\n",
    "       'BusinessTravel_Non-Travel', 'BusinessTravel_Travel_Frequently',\n",
    "       'BusinessTravel_Travel_Rarely', 'Department_Human Resources',\n",
    "       'Department_Research & Development', 'Department_Sales',\n",
    "       'EducationField_Human Resources', 'EducationField_Life Sciences',\n",
    "       'EducationField_Marketing', 'EducationField_Medical',\n",
    "       'EducationField_Other', 'EducationField_Technical Degree',\n",
    "       'Gender_Female', 'Gender_Male', 'JobRole_Healthcare Representative',\n",
    "       'JobRole_Human Resources', 'JobRole_Laboratory Technician',\n",
    "       'JobRole_Manager', 'JobRole_Manufacturing Director',\n",
    "       'JobRole_Research Director', 'JobRole_Research Scientist',\n",
    "       'JobRole_Sales Executive', 'JobRole_Sales Representative',\n",
    "       'MaritalStatus_Divorced', 'MaritalStatus_Married',\n",
    "       'MaritalStatus_Single', 'OverTime_No', 'OverTime_Yes']].astype('int64')"
   ]
  },
  {
   "cell_type": "code",
   "execution_count": 408,
   "id": "4ced3f62",
   "metadata": {},
   "outputs": [
    {
     "name": "stdout",
     "output_type": "stream",
     "text": [
      "35/35 [==============================] - 0s 557us/step\n"
     ]
    },
    {
     "data": {
      "text/html": [
       "<div>\n",
       "<style scoped>\n",
       "    .dataframe tbody tr th:only-of-type {\n",
       "        vertical-align: middle;\n",
       "    }\n",
       "\n",
       "    .dataframe tbody tr th {\n",
       "        vertical-align: top;\n",
       "    }\n",
       "\n",
       "    .dataframe thead th {\n",
       "        text-align: right;\n",
       "    }\n",
       "</style>\n",
       "<table border=\"1\" class=\"dataframe\">\n",
       "  <thead>\n",
       "    <tr style=\"text-align: right;\">\n",
       "      <th></th>\n",
       "      <th>id</th>\n",
       "      <th>Attrition</th>\n",
       "      <th>Attrition_unbinary</th>\n",
       "    </tr>\n",
       "  </thead>\n",
       "  <tbody>\n",
       "    <tr>\n",
       "      <th>0</th>\n",
       "      <td>1677</td>\n",
       "      <td>0</td>\n",
       "      <td>0.110178</td>\n",
       "    </tr>\n",
       "    <tr>\n",
       "      <th>1</th>\n",
       "      <td>1678</td>\n",
       "      <td>0</td>\n",
       "      <td>0.110178</td>\n",
       "    </tr>\n",
       "    <tr>\n",
       "      <th>2</th>\n",
       "      <td>1679</td>\n",
       "      <td>0</td>\n",
       "      <td>0.110178</td>\n",
       "    </tr>\n",
       "    <tr>\n",
       "      <th>3</th>\n",
       "      <td>1680</td>\n",
       "      <td>0</td>\n",
       "      <td>0.110178</td>\n",
       "    </tr>\n",
       "    <tr>\n",
       "      <th>4</th>\n",
       "      <td>1681</td>\n",
       "      <td>0</td>\n",
       "      <td>0.138790</td>\n",
       "    </tr>\n",
       "  </tbody>\n",
       "</table>\n",
       "</div>"
      ],
      "text/plain": [
       "     id  Attrition  Attrition_unbinary\n",
       "0  1677          0            0.110178\n",
       "1  1678          0            0.110178\n",
       "2  1679          0            0.110178\n",
       "3  1680          0            0.110178\n",
       "4  1681          0            0.138790"
      ]
     },
     "execution_count": 408,
     "metadata": {},
     "output_type": "execute_result"
    }
   ],
   "source": [
    "submission = pd.read_csv(\"C:/Users/guoyy/OneDrive/Desktop/ADEC 7630 Algorithm Intelligence/Final/sample_submission.csv\")\n",
    "y_pred = hp_model.predict(X_predict)\n",
    "submission['Attrition_unbinary'] = y_pred\n",
    "y_pred_discrete = (y_pred >= 0.5).astype(int)[:, 0]\n",
    "submission['Attrition'] = y_pred_discrete\n",
    "submission.to_csv(\"submission.csv\",index=False)\n",
    "submission.head()"
   ]
  },
  {
   "cell_type": "code",
   "execution_count": 409,
   "id": "09f1373f",
   "metadata": {},
   "outputs": [
    {
     "data": {
      "text/plain": [
       "0.005361930294906166"
      ]
     },
     "execution_count": 409,
     "metadata": {},
     "output_type": "execute_result"
    }
   ],
   "source": [
    "np.mean(y_pred_discrete)\n",
    "#This means 1 exists in the prediction"
   ]
  },
  {
   "cell_type": "code",
   "execution_count": 410,
   "id": "bf615c61",
   "metadata": {},
   "outputs": [
    {
     "data": {
      "image/png": "[encoded data removed]",
      "text/plain": [
       "<Figure size 640x480 with 1 Axes>"
      ]
     },
     "metadata": {},
     "output_type": "display_data"
    }
   ],
   "source": [
    "plt_final = submission[\"Attrition\"].plot(kind=\"hist\")\n"
   ]
  },
  {
   "cell_type": "code",
   "execution_count": null,
   "id": "ad379fa1",
   "metadata": {},
   "outputs": [],
   "source": [
    "#And the id for the people with attrition 1 is: \n",
    "1917 2233 2346 2436 2662 2786"
   ]
  },
  {
   "cell_type": "code",
   "execution_count": null,
   "id": "b9b5dd72",
   "metadata": {},
   "outputs": [],
   "source": [
    "#Really thanks to Kishore's guidance in the Whole semester!!"
   ]
  }
 ],
 "metadata": {
  "kernelspec": {
   "display_name": "Python 3 (ipykernel)",
   "language": "python",
   "name": "python3"
  },
  "language_info": {
   "codemirror_mode": {
    "name": "ipython",
    "version": 3
   },
   "file_extension": ".py",
   "mimetype": "text/x-python",
   "name": "python",
   "nbconvert_exporter": "python",
   "pygments_lexer": "ipython3",
   "version": "3.9.13"
  }
 },
 "nbformat": 4,
 "nbformat_minor": 5
}
